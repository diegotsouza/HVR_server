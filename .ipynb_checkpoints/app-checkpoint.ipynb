{
 "cells": [
  {
   "cell_type": "code",
   "execution_count": 7,
   "id": "stuffed-peninsula",
   "metadata": {},
   "outputs": [
    {
     "name": "stdout",
     "output_type": "stream",
     "text": [
      " * Serving Flask app \"__main__\" (lazy loading)\n",
      " * Environment: production\n",
      "\u001b[31m   WARNING: This is a development server. Do not use it in a production deployment.\u001b[0m\n",
      "\u001b[2m   Use a production WSGI server instead.\u001b[0m\n",
      " * Debug mode: off\n"
     ]
    },
    {
     "name": "stderr",
     "output_type": "stream",
     "text": [
      " * Running on http://127.0.0.1:5000/ (Press CTRL+C to quit)\n",
      "127.0.0.1 - - [12/Aug/2021 15:36:36] \"\u001b[37mPOST /flask HTTP/1.1\u001b[0m\" 200 -\n"
     ]
    },
    {
     "name": "stdout",
     "output_type": "stream",
     "text": [
      "get_json:  {'DeviceID': 21505, 'BeatTime': 7995, 'BeatCount': 241, 'ComputedHeartRate': 81, 'datatype': 0, 'datetime': '2021-08-12 18:36:36', 'ticksTime': 1628793397124858.2}\n",
      "Time(ms):  2021-08-12 15:36:36.726053\n"
     ]
    },
    {
     "name": "stderr",
     "output_type": "stream",
     "text": [
      "127.0.0.1 - - [12/Aug/2021 15:36:36] \"\u001b[37mPOST /flask HTTP/1.1\u001b[0m\" 200 -\n"
     ]
    },
    {
     "name": "stdout",
     "output_type": "stream",
     "text": [
      "get_json:  {'DeviceID': 21505, 'BeatTime': 7995, 'BeatCount': 241, 'ComputedHeartRate': 81, 'datatype': 0, 'datetime': '2021-08-12 18:36:36', 'ticksTime': 1628793397614823.5}\n",
      "Time(ms):  2021-08-12 15:36:36.963026\n"
     ]
    },
    {
     "name": "stderr",
     "output_type": "stream",
     "text": [
      "127.0.0.1 - - [12/Aug/2021 15:36:37] \"\u001b[37mPOST /flask HTTP/1.1\u001b[0m\" 200 -\n"
     ]
    },
    {
     "name": "stdout",
     "output_type": "stream",
     "text": [
      "get_json:  {'DeviceID': 21505, 'BeatTime': 8680, 'BeatCount': 242, 'ComputedHeartRate': 81, 'datatype': 0, 'datetime': '2021-08-12 18:36:37', 'ticksTime': 1628793398106965, 'PreviousBeat': 7995}\n",
      "Time(ms):  2021-08-12 15:36:37.206133\n"
     ]
    },
    {
     "name": "stderr",
     "output_type": "stream",
     "text": [
      "127.0.0.1 - - [12/Aug/2021 15:36:37] \"\u001b[37mPOST /flask HTTP/1.1\u001b[0m\" 200 -\n"
     ]
    },
    {
     "name": "stdout",
     "output_type": "stream",
     "text": [
      "get_json:  {'DeviceID': 21505, 'BeatTime': 8680, 'BeatCount': 242, 'ComputedHeartRate': 81, 'datatype': 0, 'datetime': '2021-08-12 18:36:37', 'ticksTime': 1628793398600397.8, 'PreviousBeat': 7995}\n",
      "Time(ms):  2021-08-12 15:36:37.452862\n"
     ]
    },
    {
     "name": "stderr",
     "output_type": "stream",
     "text": [
      "127.0.0.1 - - [12/Aug/2021 15:36:37] \"\u001b[37mPOST /flask HTTP/1.1\u001b[0m\" 200 -\n"
     ]
    },
    {
     "name": "stdout",
     "output_type": "stream",
     "text": [
      "get_json:  {'DeviceID': 21505, 'BeatTime': 8680, 'BeatCount': 242, 'ComputedHeartRate': 81, 'datatype': 0, 'datetime': '2021-08-12 18:36:37', 'ticksTime': 1628793399096060, 'PreviousBeat': 7995}\n",
      "Time(ms):  2021-08-12 15:36:37.700038\n"
     ]
    },
    {
     "name": "stderr",
     "output_type": "stream",
     "text": [
      "127.0.0.1 - - [12/Aug/2021 15:36:37] \"\u001b[37mPOST /flask HTTP/1.1\u001b[0m\" 200 -\n"
     ]
    },
    {
     "name": "stdout",
     "output_type": "stream",
     "text": [
      "get_json:  {'DeviceID': 21505, 'BeatTime': 9382, 'BeatCount': 243, 'ComputedHeartRate': 82, 'datatype': 0, 'datetime': '2021-08-12 18:36:37', 'ticksTime': 1628793399586143.2, 'PreviousBeat': 8680}\n",
      "Time(ms):  2021-08-12 15:36:37.946673\n"
     ]
    },
    {
     "name": "stderr",
     "output_type": "stream",
     "text": [
      "127.0.0.1 - - [12/Aug/2021 15:36:38] \"\u001b[37mPOST /flask HTTP/1.1\u001b[0m\" 200 -\n"
     ]
    },
    {
     "name": "stdout",
     "output_type": "stream",
     "text": [
      "get_json:  {'DeviceID': 21505, 'BeatTime': 9382, 'BeatCount': 243, 'ComputedHeartRate': 82, 'datatype': 0, 'datetime': '2021-08-12 18:36:38', 'ticksTime': 1628793400078665.2, 'PreviousBeat': 8680}\n",
      "Time(ms):  2021-08-12 15:36:38.193842\n"
     ]
    },
    {
     "name": "stderr",
     "output_type": "stream",
     "text": [
      "127.0.0.1 - - [12/Aug/2021 15:36:38] \"\u001b[37mPOST /flask HTTP/1.1\u001b[0m\" 200 -\n"
     ]
    },
    {
     "name": "stdout",
     "output_type": "stream",
     "text": [
      "get_json:  {'DeviceID': 21505, 'BeatTime': 10127, 'BeatCount': 244, 'ComputedHeartRate': 83, 'datatype': 0, 'datetime': '2021-08-12 18:36:38', 'ticksTime': 1628793401062854.8, 'PreviousBeat': 9382}\n",
      "Time(ms):  2021-08-12 15:36:38.684001\n"
     ]
    },
    {
     "name": "stderr",
     "output_type": "stream",
     "text": [
      "127.0.0.1 - - [12/Aug/2021 15:36:38] \"\u001b[37mPOST /flask HTTP/1.1\u001b[0m\" 200 -\n"
     ]
    },
    {
     "name": "stdout",
     "output_type": "stream",
     "text": [
      "get_json:  {'DeviceID': 21505, 'BeatTime': 10127, 'BeatCount': 244, 'ComputedHeartRate': 83, 'datatype': 0, 'datetime': '2021-08-12 18:36:38', 'ticksTime': 1628793401556142, 'PreviousBeat': 9382}\n",
      "Time(ms):  2021-08-12 15:36:38.930246\n"
     ]
    },
    {
     "name": "stderr",
     "output_type": "stream",
     "text": [
      "127.0.0.1 - - [12/Aug/2021 15:36:39] \"\u001b[37mPOST /flask HTTP/1.1\u001b[0m\" 200 -\n"
     ]
    },
    {
     "name": "stdout",
     "output_type": "stream",
     "text": [
      "get_json:  {'DeviceID': 21505, 'BeatTime': 10127, 'BeatCount': 244, 'ComputedHeartRate': 83, 'datatype': 0, 'datetime': '2021-08-12 18:36:39', 'ticksTime': 1628793402048160, 'PreviousBeat': 9382}\n",
      "Time(ms):  2021-08-12 15:36:39.176163\n"
     ]
    },
    {
     "name": "stderr",
     "output_type": "stream",
     "text": [
      "127.0.0.1 - - [12/Aug/2021 15:36:39] \"\u001b[37mPOST /flask HTTP/1.1\u001b[0m\" 200 -\n"
     ]
    },
    {
     "name": "stdout",
     "output_type": "stream",
     "text": [
      "get_json:  {'DeviceID': 21505, 'BeatTime': 10882, 'BeatCount': 245, 'ComputedHeartRate': 83, 'datatype': 0, 'datetime': '2021-08-12 18:36:39', 'ticksTime': 1628793402540341.8, 'PreviousBeat': 10127}\n",
      "Time(ms):  2021-08-12 15:36:39.422229\n"
     ]
    },
    {
     "name": "stderr",
     "output_type": "stream",
     "text": [
      "127.0.0.1 - - [12/Aug/2021 15:36:39] \"\u001b[37mPOST /flask HTTP/1.1\u001b[0m\" 200 -\n"
     ]
    },
    {
     "name": "stdout",
     "output_type": "stream",
     "text": [
      "get_json:  {'DeviceID': 21505, 'BeatTime': 10882, 'BeatCount': 245, 'ComputedHeartRate': 83, 'datatype': 0, 'datetime': '2021-08-12 18:36:39', 'ticksTime': 1628793403032613.8, 'PreviousBeat': 10127}\n",
      "Time(ms):  2021-08-12 15:36:39.668153\n"
     ]
    },
    {
     "name": "stderr",
     "output_type": "stream",
     "text": [
      "127.0.0.1 - - [12/Aug/2021 15:36:39] \"\u001b[37mPOST /flask HTTP/1.1\u001b[0m\" 200 -\n"
     ]
    },
    {
     "name": "stdout",
     "output_type": "stream",
     "text": [
      "get_json:  {'DeviceID': 21505, 'BeatTime': 10882, 'BeatCount': 245, 'ComputedHeartRate': 83, 'datatype': 0, 'datetime': '2021-08-12 18:36:39', 'ticksTime': 1628793403524935.5, 'PreviousBeat': 10127}\n",
      "Time(ms):  2021-08-12 15:36:39.914290\n"
     ]
    },
    {
     "name": "stderr",
     "output_type": "stream",
     "text": [
      "127.0.0.1 - - [12/Aug/2021 15:36:40] \"\u001b[37mPOST /flask HTTP/1.1\u001b[0m\" 200 -\n"
     ]
    },
    {
     "name": "stdout",
     "output_type": "stream",
     "text": [
      "get_json:  {'DeviceID': 21505, 'BeatTime': 11608, 'BeatCount': 246, 'ComputedHeartRate': 83, 'datatype': 0, 'datetime': '2021-08-12 18:36:40', 'ticksTime': 1628793404018432.8, 'PreviousBeat': 10882}\n",
      "Time(ms):  2021-08-12 15:36:40.162340\n"
     ]
    },
    {
     "name": "stderr",
     "output_type": "stream",
     "text": [
      "127.0.0.1 - - [12/Aug/2021 15:36:40] \"\u001b[37mPOST /flask HTTP/1.1\u001b[0m\" 200 -\n"
     ]
    },
    {
     "name": "stdout",
     "output_type": "stream",
     "text": [
      "get_json:  {'DeviceID': 21505, 'BeatTime': 11608, 'BeatCount': 246, 'ComputedHeartRate': 83, 'datatype': 0, 'datetime': '2021-08-12 18:36:40', 'ticksTime': 1628793404512035, 'PreviousBeat': 10882}\n",
      "Time(ms):  2021-08-12 15:36:40.409369\n"
     ]
    },
    {
     "name": "stderr",
     "output_type": "stream",
     "text": [
      "127.0.0.1 - - [12/Aug/2021 15:36:40] \"\u001b[37mPOST /flask HTTP/1.1\u001b[0m\" 200 -\n"
     ]
    },
    {
     "name": "stdout",
     "output_type": "stream",
     "text": [
      "get_json:  {'DeviceID': 21505, 'BeatTime': 11608, 'BeatCount': 246, 'ComputedHeartRate': 83, 'datatype': 0, 'datetime': '2021-08-12 18:36:40', 'ticksTime': 1628793405002682, 'PreviousBeat': 10882}\n",
      "Time(ms):  2021-08-12 15:36:40.653037\n"
     ]
    },
    {
     "name": "stderr",
     "output_type": "stream",
     "text": [
      "127.0.0.1 - - [12/Aug/2021 15:36:40] \"\u001b[37mPOST /flask HTTP/1.1\u001b[0m\" 200 -\n"
     ]
    },
    {
     "name": "stdout",
     "output_type": "stream",
     "text": [
      "get_json:  {'DeviceID': 21505, 'BeatTime': 12319, 'BeatCount': 247, 'ComputedHeartRate': 83, 'datatype': 0, 'datetime': '2021-08-12 18:36:40', 'ticksTime': 1628793405496207.2, 'PreviousBeat': 11608}\n",
      "Time(ms):  2021-08-12 15:36:40.900744\n"
     ]
    },
    {
     "name": "stderr",
     "output_type": "stream",
     "text": [
      "127.0.0.1 - - [12/Aug/2021 15:36:41] \"\u001b[37mPOST /flask HTTP/1.1\u001b[0m\" 200 -\n"
     ]
    },
    {
     "name": "stdout",
     "output_type": "stream",
     "text": [
      "get_json:  {'DeviceID': 21505, 'BeatTime': 12319, 'BeatCount': 247, 'ComputedHeartRate': 83, 'datatype': 0, 'datetime': '2021-08-12 18:36:41', 'ticksTime': 1628793405988484.5, 'PreviousBeat': 11608}\n",
      "Time(ms):  2021-08-12 15:36:41.146812\n"
     ]
    },
    {
     "name": "stderr",
     "output_type": "stream",
     "text": [
      "127.0.0.1 - - [12/Aug/2021 15:36:41] \"\u001b[37mPOST /flask HTTP/1.1\u001b[0m\" 200 -\n"
     ]
    },
    {
     "name": "stdout",
     "output_type": "stream",
     "text": [
      "get_json:  {'DeviceID': 21505, 'BeatTime': 13032, 'BeatCount': 248, 'ComputedHeartRate': 83, 'datatype': 0, 'datetime': '2021-08-12 18:36:41', 'ticksTime': 1628793406482345, 'PreviousBeat': 12319}\n",
      "Time(ms):  2021-08-12 15:36:41.396042\n"
     ]
    },
    {
     "name": "stderr",
     "output_type": "stream",
     "text": [
      "127.0.0.1 - - [12/Aug/2021 15:36:41] \"\u001b[37mPOST /flask HTTP/1.1\u001b[0m\" 200 -\n"
     ]
    },
    {
     "name": "stdout",
     "output_type": "stream",
     "text": [
      "get_json:  {'DeviceID': 21505, 'BeatTime': 13032, 'BeatCount': 248, 'ComputedHeartRate': 83, 'datatype': 0, 'datetime': '2021-08-12 18:36:41', 'ticksTime': 1628793406973936.8, 'PreviousBeat': 12319}\n",
      "Time(ms):  2021-08-12 15:36:41.639498\n"
     ]
    },
    {
     "name": "stderr",
     "output_type": "stream",
     "text": [
      "127.0.0.1 - - [12/Aug/2021 15:36:41] \"\u001b[37mPOST /flask HTTP/1.1\u001b[0m\" 200 -\n"
     ]
    },
    {
     "name": "stdout",
     "output_type": "stream",
     "text": [
      "get_json:  {'DeviceID': 21505, 'BeatTime': 13032, 'BeatCount': 248, 'ComputedHeartRate': 83, 'datatype': 0, 'datetime': '2021-08-12 18:36:41', 'ticksTime': 1628793407466159.8, 'PreviousBeat': 12319}\n",
      "Time(ms):  2021-08-12 15:36:41.885716\n"
     ]
    },
    {
     "name": "stderr",
     "output_type": "stream",
     "text": [
      "127.0.0.1 - - [12/Aug/2021 15:36:42] \"\u001b[37mPOST /flask HTTP/1.1\u001b[0m\" 200 -\n"
     ]
    },
    {
     "name": "stdout",
     "output_type": "stream",
     "text": [
      "get_json:  {'DeviceID': 21505, 'BeatTime': 13739, 'BeatCount': 249, 'ComputedHeartRate': 84, 'datatype': 0, 'datetime': '2021-08-12 18:36:42', 'ticksTime': 1628793407958526, 'PreviousBeat': 13032}\n",
      "Time(ms):  2021-08-12 15:36:42.131288\n"
     ]
    },
    {
     "name": "stderr",
     "output_type": "stream",
     "text": [
      "127.0.0.1 - - [12/Aug/2021 15:36:42] \"\u001b[37mPOST /flask HTTP/1.1\u001b[0m\" 200 -\n"
     ]
    },
    {
     "name": "stdout",
     "output_type": "stream",
     "text": [
      "get_json:  {'DeviceID': 21505, 'BeatTime': 13739, 'BeatCount': 249, 'ComputedHeartRate': 84, 'datatype': 0, 'datetime': '2021-08-12 18:36:42', 'ticksTime': 1628793408450809.2, 'PreviousBeat': 13032}\n",
      "Time(ms):  2021-08-12 15:36:42.380654\n"
     ]
    },
    {
     "name": "stderr",
     "output_type": "stream",
     "text": [
      "127.0.0.1 - - [12/Aug/2021 15:36:42] \"\u001b[37mPOST /flask HTTP/1.1\u001b[0m\" 200 -\n"
     ]
    },
    {
     "name": "stdout",
     "output_type": "stream",
     "text": [
      "get_json:  {'DeviceID': 21505, 'BeatTime': 13739, 'BeatCount': 249, 'ComputedHeartRate': 84, 'datatype': 0, 'datetime': '2021-08-12 18:36:42', 'ticksTime': 1628793408942833.8, 'PreviousBeat': 13032}\n",
      "Time(ms):  2021-08-12 15:36:42.623972\n"
     ]
    },
    {
     "name": "stderr",
     "output_type": "stream",
     "text": [
      "127.0.0.1 - - [12/Aug/2021 15:36:42] \"\u001b[37mPOST /flask HTTP/1.1\u001b[0m\" 200 -\n"
     ]
    },
    {
     "name": "stdout",
     "output_type": "stream",
     "text": [
      "get_json:  {'DeviceID': 21505, 'BeatTime': 14447, 'BeatCount': 250, 'ComputedHeartRate': 84, 'datatype': 0, 'datetime': '2021-08-12 18:36:42', 'ticksTime': 1628793409436064.5, 'PreviousBeat': 13739}\n",
      "Time(ms):  2021-08-12 15:36:42.869416\n"
     ]
    },
    {
     "name": "stderr",
     "output_type": "stream",
     "text": [
      "127.0.0.1 - - [12/Aug/2021 15:36:43] \"\u001b[37mPOST /flask HTTP/1.1\u001b[0m\" 200 -\n"
     ]
    },
    {
     "name": "stdout",
     "output_type": "stream",
     "text": [
      "get_json:  {'DeviceID': 21505, 'BeatTime': 14447, 'BeatCount': 250, 'ComputedHeartRate': 84, 'datatype': 0, 'datetime': '2021-08-12 18:36:43', 'ticksTime': 1628793409928346.8, 'PreviousBeat': 13739}\n",
      "Time(ms):  2021-08-12 15:36:43.116183\n"
     ]
    },
    {
     "name": "stderr",
     "output_type": "stream",
     "text": [
      "127.0.0.1 - - [12/Aug/2021 15:36:43] \"\u001b[37mPOST /flask HTTP/1.1\u001b[0m\" 200 -\n"
     ]
    },
    {
     "name": "stdout",
     "output_type": "stream",
     "text": [
      "get_json:  {'DeviceID': 21505, 'BeatTime': 15128, 'BeatCount': 251, 'ComputedHeartRate': 84, 'datatype': 0, 'datetime': '2021-08-12 18:36:43', 'ticksTime': 1628793410420773, 'PreviousBeat': 14447}\n",
      "Time(ms):  2021-08-12 15:36:43.362769\n"
     ]
    },
    {
     "name": "stderr",
     "output_type": "stream",
     "text": [
      "127.0.0.1 - - [12/Aug/2021 15:36:43] \"\u001b[37mPOST /flask HTTP/1.1\u001b[0m\" 200 -\n"
     ]
    },
    {
     "name": "stdout",
     "output_type": "stream",
     "text": [
      "get_json:  {'DeviceID': 21505, 'BeatTime': 15128, 'BeatCount': 251, 'ComputedHeartRate': 84, 'datatype': 0, 'datetime': '2021-08-12 18:36:43', 'ticksTime': 1628793410913883, 'PreviousBeat': 14447}\n",
      "Time(ms):  2021-08-12 15:36:43.610660\n"
     ]
    },
    {
     "name": "stderr",
     "output_type": "stream",
     "text": [
      "127.0.0.1 - - [12/Aug/2021 15:36:43] \"\u001b[37mPOST /flask HTTP/1.1\u001b[0m\" 200 -\n"
     ]
    },
    {
     "name": "stdout",
     "output_type": "stream",
     "text": [
      "get_json:  {'DeviceID': 21505, 'BeatTime': 15128, 'BeatCount': 251, 'ComputedHeartRate': 84, 'datatype': 0, 'datetime': '2021-08-12 18:36:43', 'ticksTime': 1628793411406239.8, 'PreviousBeat': 14447}\n",
      "Time(ms):  2021-08-12 15:36:43.855397\n"
     ]
    },
    {
     "name": "stderr",
     "output_type": "stream",
     "text": [
      "127.0.0.1 - - [12/Aug/2021 15:36:44] \"\u001b[37mPOST /flask HTTP/1.1\u001b[0m\" 200 -\n"
     ]
    },
    {
     "name": "stdout",
     "output_type": "stream",
     "text": [
      "get_json:  {'DeviceID': 21505, 'BeatTime': 15786, 'BeatCount': 252, 'ComputedHeartRate': 85, 'datatype': 0, 'datetime': '2021-08-12 18:36:44', 'ticksTime': 1628793411898334, 'PreviousBeat': 15128}\n",
      "Time(ms):  2021-08-12 15:36:44.100632\n"
     ]
    },
    {
     "name": "stderr",
     "output_type": "stream",
     "text": [
      "127.0.0.1 - - [12/Aug/2021 15:36:44] \"\u001b[37mPOST /flask HTTP/1.1\u001b[0m\" 200 -\n"
     ]
    },
    {
     "name": "stdout",
     "output_type": "stream",
     "text": [
      "get_json:  {'DeviceID': 21505, 'BeatTime': 15786, 'BeatCount': 252, 'ComputedHeartRate': 85, 'datatype': 0, 'datetime': '2021-08-12 18:36:44', 'ticksTime': 1628793412391911, 'PreviousBeat': 15128}\n",
      "Time(ms):  2021-08-12 15:36:44.348119\n"
     ]
    },
    {
     "name": "stderr",
     "output_type": "stream",
     "text": [
      "127.0.0.1 - - [12/Aug/2021 15:36:44] \"\u001b[37mPOST /flask HTTP/1.1\u001b[0m\" 200 -\n"
     ]
    },
    {
     "name": "stdout",
     "output_type": "stream",
     "text": [
      "get_json:  {'DeviceID': 21505, 'BeatTime': 15786, 'BeatCount': 252, 'ComputedHeartRate': 85, 'datatype': 0, 'datetime': '2021-08-12 18:36:44', 'ticksTime': 1628793412883880.2, 'PreviousBeat': 15128}\n",
      "Time(ms):  2021-08-12 15:36:44.596094\n"
     ]
    },
    {
     "name": "stderr",
     "output_type": "stream",
     "text": [
      "127.0.0.1 - - [12/Aug/2021 15:36:44] \"\u001b[37mPOST /flask HTTP/1.1\u001b[0m\" 200 -\n"
     ]
    },
    {
     "name": "stdout",
     "output_type": "stream",
     "text": [
      "get_json:  {'DeviceID': 21505, 'BeatTime': 16453, 'BeatCount': 253, 'ComputedHeartRate': 86, 'datatype': 0, 'datetime': '2021-08-12 18:36:44', 'ticksTime': 1628793413376182.2, 'PreviousBeat': 15786}\n",
      "Time(ms):  2021-08-12 15:36:44.840983\n"
     ]
    },
    {
     "name": "stderr",
     "output_type": "stream",
     "text": [
      "127.0.0.1 - - [12/Aug/2021 15:36:45] \"\u001b[37mPOST /flask HTTP/1.1\u001b[0m\" 200 -\n"
     ]
    },
    {
     "name": "stdout",
     "output_type": "stream",
     "text": [
      "get_json:  {'DeviceID': 21505, 'BeatTime': 16453, 'BeatCount': 253, 'ComputedHeartRate': 86, 'datatype': 0, 'datetime': '2021-08-12 18:36:45', 'ticksTime': 1628793413868695.2, 'PreviousBeat': 15786}\n",
      "Time(ms):  2021-08-12 15:36:45.086885\n"
     ]
    },
    {
     "name": "stderr",
     "output_type": "stream",
     "text": [
      "127.0.0.1 - - [12/Aug/2021 15:36:45] \"\u001b[37mPOST /flask HTTP/1.1\u001b[0m\" 200 -\n"
     ]
    },
    {
     "name": "stdout",
     "output_type": "stream",
     "text": [
      "get_json:  {'DeviceID': 21505, 'BeatTime': 16453, 'BeatCount': 253, 'ComputedHeartRate': 86, 'datatype': 0, 'datetime': '2021-08-12 18:36:45', 'ticksTime': 1628793414362205, 'PreviousBeat': 15786}\n",
      "Time(ms):  2021-08-12 15:36:45.334667\n"
     ]
    },
    {
     "name": "stderr",
     "output_type": "stream",
     "text": [
      "127.0.0.1 - - [12/Aug/2021 15:36:45] \"\u001b[37mPOST /flask HTTP/1.1\u001b[0m\" 200 -\n"
     ]
    },
    {
     "name": "stdout",
     "output_type": "stream",
     "text": [
      "get_json:  {'DeviceID': 21505, 'BeatTime': 17137, 'BeatCount': 254, 'ComputedHeartRate': 87, 'datatype': 0, 'datetime': '2021-08-12 18:36:45', 'ticksTime': 1628793414853921.5, 'PreviousBeat': 16453}\n",
      "Time(ms):  2021-08-12 15:36:45.578289\n"
     ]
    },
    {
     "name": "stderr",
     "output_type": "stream",
     "text": [
      "127.0.0.1 - - [12/Aug/2021 15:36:45] \"\u001b[37mPOST /flask HTTP/1.1\u001b[0m\" 200 -\n"
     ]
    },
    {
     "name": "stdout",
     "output_type": "stream",
     "text": [
      "get_json:  {'DeviceID': 21505, 'BeatTime': 17137, 'BeatCount': 254, 'ComputedHeartRate': 87, 'datatype': 0, 'datetime': '2021-08-12 18:36:45', 'ticksTime': 1628793415346323.8, 'PreviousBeat': 16453}\n",
      "Time(ms):  2021-08-12 15:36:45.826009\n"
     ]
    },
    {
     "name": "stderr",
     "output_type": "stream",
     "text": [
      "127.0.0.1 - - [12/Aug/2021 15:36:46] \"\u001b[37mPOST /flask HTTP/1.1\u001b[0m\" 200 -\n"
     ]
    },
    {
     "name": "stdout",
     "output_type": "stream",
     "text": [
      "get_json:  {'DeviceID': 21505, 'BeatTime': 17834, 'BeatCount': 255, 'ComputedHeartRate': 87, 'datatype': 0, 'datetime': '2021-08-12 18:36:46', 'ticksTime': 1628793415838503.5, 'PreviousBeat': 17137}\n",
      "Time(ms):  2021-08-12 15:36:46.071148\n"
     ]
    },
    {
     "name": "stderr",
     "output_type": "stream",
     "text": [
      "127.0.0.1 - - [12/Aug/2021 15:36:46] \"\u001b[37mPOST /flask HTTP/1.1\u001b[0m\" 200 -\n"
     ]
    },
    {
     "name": "stdout",
     "output_type": "stream",
     "text": [
      "get_json:  {'DeviceID': 21505, 'BeatTime': 17834, 'BeatCount': 255, 'ComputedHeartRate': 87, 'datatype': 0, 'datetime': '2021-08-12 18:36:46', 'ticksTime': 1628793416331871.5, 'PreviousBeat': 17137}\n",
      "Time(ms):  2021-08-12 15:36:46.318190\n"
     ]
    },
    {
     "name": "stderr",
     "output_type": "stream",
     "text": [
      "127.0.0.1 - - [12/Aug/2021 15:36:46] \"\u001b[37mPOST /flask HTTP/1.1\u001b[0m\" 200 -\n"
     ]
    },
    {
     "name": "stdout",
     "output_type": "stream",
     "text": [
      "get_json:  {'DeviceID': 21505, 'BeatTime': 17834, 'BeatCount': 255, 'ComputedHeartRate': 87, 'datatype': 0, 'datetime': '2021-08-12 18:36:46', 'ticksTime': 1628793416823983.5, 'PreviousBeat': 17137}\n",
      "Time(ms):  2021-08-12 15:36:46.563616\n"
     ]
    },
    {
     "name": "stderr",
     "output_type": "stream",
     "text": [
      "127.0.0.1 - - [12/Aug/2021 15:36:46] \"\u001b[37mPOST /flask HTTP/1.1\u001b[0m\" 200 -\n"
     ]
    },
    {
     "name": "stdout",
     "output_type": "stream",
     "text": [
      "get_json:  {'DeviceID': 21505, 'BeatTime': 18538, 'BeatCount': 0, 'ComputedHeartRate': 87, 'datatype': 0, 'datetime': '2021-08-12 18:36:46', 'ticksTime': 1628793417316377.2, 'PreviousBeat': 17834}\n",
      "Time(ms):  2021-08-12 15:36:46.811258\n"
     ]
    },
    {
     "name": "stderr",
     "output_type": "stream",
     "text": [
      "127.0.0.1 - - [12/Aug/2021 15:36:47] \"\u001b[37mPOST /flask HTTP/1.1\u001b[0m\" 200 -\n"
     ]
    },
    {
     "name": "stdout",
     "output_type": "stream",
     "text": [
      "get_json:  {'DeviceID': 21505, 'BeatTime': 18538, 'BeatCount': 0, 'ComputedHeartRate': 87, 'datatype': 0, 'datetime': '2021-08-12 18:36:47', 'ticksTime': 1628793418302429.2, 'PreviousBeat': 17834}\n",
      "Time(ms):  2021-08-12 15:36:47.303844\n"
     ]
    },
    {
     "name": "stderr",
     "output_type": "stream",
     "text": [
      "127.0.0.1 - - [12/Aug/2021 15:36:47] \"\u001b[37mPOST /flask HTTP/1.1\u001b[0m\" 200 -\n"
     ]
    },
    {
     "name": "stdout",
     "output_type": "stream",
     "text": [
      "get_json:  {'DeviceID': 21505, 'BeatTime': 19220, 'BeatCount': 1, 'ComputedHeartRate': 87, 'datatype': 0, 'datetime': '2021-08-12 18:36:47', 'ticksTime': 1628793418794258, 'PreviousBeat': 18538}\n",
      "Time(ms):  2021-08-12 15:36:47.548814\n"
     ]
    },
    {
     "name": "stderr",
     "output_type": "stream",
     "text": [
      "127.0.0.1 - - [12/Aug/2021 15:36:47] \"\u001b[37mPOST /flask HTTP/1.1\u001b[0m\" 200 -\n"
     ]
    },
    {
     "name": "stdout",
     "output_type": "stream",
     "text": [
      "get_json:  {'DeviceID': 21505, 'BeatTime': 19220, 'BeatCount': 1, 'ComputedHeartRate': 87, 'datatype': 0, 'datetime': '2021-08-12 18:36:47', 'ticksTime': 1628793419286366.2, 'PreviousBeat': 18538}\n",
      "Time(ms):  2021-08-12 15:36:47.795056\n"
     ]
    },
    {
     "name": "stderr",
     "output_type": "stream",
     "text": [
      "127.0.0.1 - - [12/Aug/2021 15:36:48] \"\u001b[37mPOST /flask HTTP/1.1\u001b[0m\" 200 -\n"
     ]
    },
    {
     "name": "stdout",
     "output_type": "stream",
     "text": [
      "get_json:  {'DeviceID': 21505, 'BeatTime': 19880, 'BeatCount': 2, 'ComputedHeartRate': 88, 'datatype': 0, 'datetime': '2021-08-12 18:36:48', 'ticksTime': 1628793419780015.5, 'PreviousBeat': 19220}\n",
      "Time(ms):  2021-08-12 15:36:48.042992\n"
     ]
    },
    {
     "name": "stderr",
     "output_type": "stream",
     "text": [
      "127.0.0.1 - - [12/Aug/2021 15:36:48] \"\u001b[37mPOST /flask HTTP/1.1\u001b[0m\" 200 -\n"
     ]
    },
    {
     "name": "stdout",
     "output_type": "stream",
     "text": [
      "get_json:  {'DeviceID': 21505, 'BeatTime': 19880, 'BeatCount': 2, 'ComputedHeartRate': 88, 'datatype': 0, 'datetime': '2021-08-12 18:36:48', 'ticksTime': 1628793420272274, 'PreviousBeat': 19220}\n",
      "Time(ms):  2021-08-12 15:36:48.291337\n"
     ]
    },
    {
     "name": "stderr",
     "output_type": "stream",
     "text": [
      "127.0.0.1 - - [12/Aug/2021 15:36:48] \"\u001b[37mPOST /flask HTTP/1.1\u001b[0m\" 200 -\n"
     ]
    },
    {
     "name": "stdout",
     "output_type": "stream",
     "text": [
      "get_json:  {'DeviceID': 21505, 'BeatTime': 19880, 'BeatCount': 2, 'ComputedHeartRate': 88, 'datatype': 0, 'datetime': '2021-08-12 18:36:48', 'ticksTime': 1628793420764216.8, 'PreviousBeat': 19220}\n",
      "Time(ms):  2021-08-12 15:36:48.533982\n"
     ]
    },
    {
     "name": "stderr",
     "output_type": "stream",
     "text": [
      "127.0.0.1 - - [12/Aug/2021 15:36:48] \"\u001b[37mPOST /flask HTTP/1.1\u001b[0m\" 200 -\n"
     ]
    },
    {
     "name": "stdout",
     "output_type": "stream",
     "text": [
      "get_json:  {'DeviceID': 21505, 'BeatTime': 20551, 'BeatCount': 3, 'ComputedHeartRate': 88, 'datatype': 0, 'datetime': '2021-08-12 18:36:48', 'ticksTime': 1628793421256360.5, 'PreviousBeat': 19880}\n",
      "Time(ms):  2021-08-12 15:36:48.779716\n"
     ]
    },
    {
     "name": "stderr",
     "output_type": "stream",
     "text": [
      "127.0.0.1 - - [12/Aug/2021 15:36:49] \"\u001b[37mPOST /flask HTTP/1.1\u001b[0m\" 200 -\n"
     ]
    },
    {
     "name": "stdout",
     "output_type": "stream",
     "text": [
      "get_json:  {'DeviceID': 21505, 'BeatTime': 20551, 'BeatCount': 3, 'ComputedHeartRate': 88, 'datatype': 0, 'datetime': '2021-08-12 18:36:49', 'ticksTime': 1628793421750040.5, 'PreviousBeat': 19880, 'HwVersion': 1, 'SwVersion': 10, 'ModelNum': 2}\n",
      "Time(ms):  2021-08-12 15:36:49.027946\n"
     ]
    },
    {
     "name": "stderr",
     "output_type": "stream",
     "text": [
      "127.0.0.1 - - [12/Aug/2021 15:36:49] \"\u001b[37mPOST /flask HTTP/1.1\u001b[0m\" 200 -\n"
     ]
    },
    {
     "name": "stdout",
     "output_type": "stream",
     "text": [
      "get_json:  {'DeviceID': 21505, 'BeatTime': 20551, 'BeatCount': 3, 'ComputedHeartRate': 88, 'datatype': 0, 'datetime': '2021-08-12 18:36:49', 'ticksTime': 1628793422242216, 'PreviousBeat': 19880, 'HwVersion': 1, 'SwVersion': 10, 'ModelNum': 2}\n",
      "Time(ms):  2021-08-12 15:36:49.274136\n"
     ]
    },
    {
     "name": "stderr",
     "output_type": "stream",
     "text": [
      "127.0.0.1 - - [12/Aug/2021 15:36:49] \"\u001b[37mPOST /flask HTTP/1.1\u001b[0m\" 200 -\n"
     ]
    },
    {
     "name": "stdout",
     "output_type": "stream",
     "text": [
      "get_json:  {'DeviceID': 21505, 'BeatTime': 21229, 'BeatCount': 4, 'ComputedHeartRate': 89, 'datatype': 0, 'datetime': '2021-08-12 18:36:49', 'ticksTime': 1628793422734361.2, 'PreviousBeat': 19880, 'HwVersion': 1, 'SwVersion': 10, 'ModelNum': 2}\n",
      "Time(ms):  2021-08-12 15:36:49.518996\n"
     ]
    },
    {
     "name": "stderr",
     "output_type": "stream",
     "text": [
      "127.0.0.1 - - [12/Aug/2021 15:36:49] \"\u001b[37mPOST /flask HTTP/1.1\u001b[0m\" 200 -\n"
     ]
    },
    {
     "name": "stdout",
     "output_type": "stream",
     "text": [
      "get_json:  {'DeviceID': 21505, 'BeatTime': 21229, 'BeatCount': 4, 'ComputedHeartRate': 89, 'datatype': 0, 'datetime': '2021-08-12 18:36:49', 'ticksTime': 1628793423226643, 'PreviousBeat': 19880, 'HwVersion': 1, 'SwVersion': 10, 'ModelNum': 2}\n",
      "Time(ms):  2021-08-12 15:36:49.765877\n"
     ]
    },
    {
     "name": "stderr",
     "output_type": "stream",
     "text": [
      "127.0.0.1 - - [12/Aug/2021 15:36:50] \"\u001b[37mPOST /flask HTTP/1.1\u001b[0m\" 200 -\n"
     ]
    },
    {
     "name": "stdout",
     "output_type": "stream",
     "text": [
      "get_json:  {'DeviceID': 21505, 'BeatTime': 21909, 'BeatCount': 5, 'ComputedHeartRate': 89, 'datatype': 0, 'datetime': '2021-08-12 18:36:50', 'ticksTime': 1628793423720041.2, 'PreviousBeat': 21229, 'HwVersion': 1, 'SwVersion': 10, 'ModelNum': 2}\n",
      "Time(ms):  2021-08-12 15:36:50.011603\n"
     ]
    },
    {
     "name": "stderr",
     "output_type": "stream",
     "text": [
      "127.0.0.1 - - [12/Aug/2021 15:36:50] \"\u001b[37mPOST /flask HTTP/1.1\u001b[0m\" 200 -\n"
     ]
    },
    {
     "name": "stdout",
     "output_type": "stream",
     "text": [
      "get_json:  {'DeviceID': 21505, 'BeatTime': 21909, 'BeatCount': 5, 'ComputedHeartRate': 89, 'datatype': 0, 'datetime': '2021-08-12 18:36:50', 'ticksTime': 1628793424211994.2, 'PreviousBeat': 21229, 'HwVersion': 1, 'SwVersion': 10, 'ModelNum': 2}\n",
      "Time(ms):  2021-08-12 15:36:50.257708\n"
     ]
    },
    {
     "name": "stderr",
     "output_type": "stream",
     "text": [
      "127.0.0.1 - - [12/Aug/2021 15:36:50] \"\u001b[37mPOST /flask HTTP/1.1\u001b[0m\" 200 -\n"
     ]
    },
    {
     "name": "stdout",
     "output_type": "stream",
     "text": [
      "get_json:  {'DeviceID': 21505, 'BeatTime': 21909, 'BeatCount': 5, 'ComputedHeartRate': 89, 'datatype': 0, 'datetime': '2021-08-12 18:36:50', 'ticksTime': 1628793424704446.8, 'PreviousBeat': 21229, 'HwVersion': 1, 'SwVersion': 10, 'ModelNum': 2}\n",
      "Time(ms):  2021-08-12 15:36:50.504825\n"
     ]
    },
    {
     "name": "stderr",
     "output_type": "stream",
     "text": [
      "127.0.0.1 - - [12/Aug/2021 15:36:50] \"\u001b[37mPOST /flask HTTP/1.1\u001b[0m\" 200 -\n"
     ]
    },
    {
     "name": "stdout",
     "output_type": "stream",
     "text": [
      "get_json:  {'DeviceID': 21505, 'BeatTime': 22567, 'BeatCount': 6, 'ComputedHeartRate': 89, 'datatype': 0, 'datetime': '2021-08-12 18:36:50', 'ticksTime': 1628793425196624.2, 'PreviousBeat': 21909, 'HwVersion': 1, 'SwVersion': 10, 'ModelNum': 2}\n",
      "Time(ms):  2021-08-12 15:36:50.752239\n"
     ]
    },
    {
     "name": "stderr",
     "output_type": "stream",
     "text": [
      "127.0.0.1 - - [12/Aug/2021 15:36:50] \"\u001b[37mPOST /flask HTTP/1.1\u001b[0m\" 200 -\n"
     ]
    },
    {
     "name": "stdout",
     "output_type": "stream",
     "text": [
      "get_json:  {'DeviceID': 21505, 'BeatTime': 22567, 'BeatCount': 6, 'ComputedHeartRate': 89, 'datatype': 0, 'datetime': '2021-08-12 18:36:50', 'ticksTime': 1628793425690056.5, 'PreviousBeat': 21909, 'HwVersion': 1, 'SwVersion': 10, 'ModelNum': 2}\n",
      "Time(ms):  2021-08-12 15:36:50.998345\n"
     ]
    },
    {
     "name": "stderr",
     "output_type": "stream",
     "text": [
      "127.0.0.1 - - [12/Aug/2021 15:36:51] \"\u001b[37mPOST /flask HTTP/1.1\u001b[0m\" 200 -\n"
     ]
    },
    {
     "name": "stdout",
     "output_type": "stream",
     "text": [
      "get_json:  {'DeviceID': 21505, 'BeatTime': 22567, 'BeatCount': 6, 'ComputedHeartRate': 89, 'datatype': 0, 'datetime': '2021-08-12 18:36:51', 'ticksTime': 1628793426182029.2, 'PreviousBeat': 21909, 'HwVersion': 1, 'SwVersion': 10, 'ModelNum': 2}\n",
      "Time(ms):  2021-08-12 15:36:51.242415\n"
     ]
    },
    {
     "name": "stderr",
     "output_type": "stream",
     "text": [
      "127.0.0.1 - - [12/Aug/2021 15:36:51] \"\u001b[37mPOST /flask HTTP/1.1\u001b[0m\" 200 -\n"
     ]
    },
    {
     "name": "stdout",
     "output_type": "stream",
     "text": [
      "get_json:  {'DeviceID': 21505, 'BeatTime': 23243, 'BeatCount': 7, 'ComputedHeartRate': 90, 'datatype': 0, 'datetime': '2021-08-12 18:36:51', 'ticksTime': 1628793426674514.2, 'PreviousBeat': 22567, 'HwVersion': 1, 'SwVersion': 10, 'ModelNum': 2}\n",
      "Time(ms):  2021-08-12 15:36:51.489965\n"
     ]
    },
    {
     "name": "stderr",
     "output_type": "stream",
     "text": [
      "127.0.0.1 - - [12/Aug/2021 15:36:51] \"\u001b[37mPOST /flask HTTP/1.1\u001b[0m\" 200 -\n"
     ]
    },
    {
     "name": "stdout",
     "output_type": "stream",
     "text": [
      "get_json:  {'DeviceID': 21505, 'BeatTime': 23243, 'BeatCount': 7, 'ComputedHeartRate': 90, 'datatype': 0, 'datetime': '2021-08-12 18:36:51', 'ticksTime': 1628793427168028, 'PreviousBeat': 22567, 'HwVersion': 1, 'SwVersion': 10, 'ModelNum': 2}\n",
      "Time(ms):  2021-08-12 15:36:51.737418\n"
     ]
    },
    {
     "name": "stderr",
     "output_type": "stream",
     "text": [
      "127.0.0.1 - - [12/Aug/2021 15:36:51] \"\u001b[37mPOST /flask HTTP/1.1\u001b[0m\" 200 -\n"
     ]
    },
    {
     "name": "stdout",
     "output_type": "stream",
     "text": [
      "get_json:  {'DeviceID': 21505, 'BeatTime': 23243, 'BeatCount': 7, 'ComputedHeartRate': 90, 'datatype': 0, 'datetime': '2021-08-12 18:36:51', 'ticksTime': 1628793427660152.2, 'PreviousBeat': 22567, 'HwVersion': 1, 'SwVersion': 10, 'ModelNum': 2}\n",
      "Time(ms):  2021-08-12 15:36:51.982701\n"
     ]
    },
    {
     "name": "stderr",
     "output_type": "stream",
     "text": [
      "127.0.0.1 - - [12/Aug/2021 15:36:52] \"\u001b[37mPOST /flask HTTP/1.1\u001b[0m\" 200 -\n"
     ]
    },
    {
     "name": "stdout",
     "output_type": "stream",
     "text": [
      "get_json:  {'DeviceID': 21505, 'BeatTime': 23927, 'BeatCount': 8, 'ComputedHeartRate': 90, 'datatype': 0, 'datetime': '2021-08-12 18:36:52', 'ticksTime': 1628793428152342.5, 'PreviousBeat': 23243, 'HwVersion': 1, 'SwVersion': 10, 'ModelNum': 2}\n",
      "Time(ms):  2021-08-12 15:36:52.228714\n"
     ]
    },
    {
     "name": "stderr",
     "output_type": "stream",
     "text": [
      "127.0.0.1 - - [12/Aug/2021 15:36:52] \"\u001b[37mPOST /flask HTTP/1.1\u001b[0m\" 200 -\n"
     ]
    },
    {
     "name": "stdout",
     "output_type": "stream",
     "text": [
      "get_json:  {'DeviceID': 21505, 'BeatTime': 23927, 'BeatCount': 8, 'ComputedHeartRate': 90, 'datatype': 0, 'datetime': '2021-08-12 18:36:52', 'ticksTime': 1628793428644429, 'PreviousBeat': 23243, 'HwVersion': 1, 'SwVersion': 10, 'ModelNum': 2}\n",
      "Time(ms):  2021-08-12 15:36:52.474122\n"
     ]
    },
    {
     "name": "stderr",
     "output_type": "stream",
     "text": [
      "127.0.0.1 - - [12/Aug/2021 15:36:52] \"\u001b[37mPOST /flask HTTP/1.1\u001b[0m\" 200 -\n"
     ]
    },
    {
     "name": "stdout",
     "output_type": "stream",
     "text": [
      "get_json:  {'DeviceID': 21505, 'BeatTime': 24623, 'BeatCount': 9, 'ComputedHeartRate': 90, 'datatype': 0, 'datetime': '2021-08-12 18:36:52', 'ticksTime': 1628793429137889, 'PreviousBeat': 23927, 'HwVersion': 1, 'SwVersion': 10, 'ModelNum': 2}\n",
      "Time(ms):  2021-08-12 15:36:52.721279\n"
     ]
    },
    {
     "name": "stderr",
     "output_type": "stream",
     "text": [
      "127.0.0.1 - - [12/Aug/2021 15:36:52] \"\u001b[37mPOST /flask HTTP/1.1\u001b[0m\" 200 -\n"
     ]
    },
    {
     "name": "stdout",
     "output_type": "stream",
     "text": [
      "get_json:  {'DeviceID': 21505, 'BeatTime': 24623, 'BeatCount': 9, 'ComputedHeartRate': 90, 'datatype': 0, 'datetime': '2021-08-12 18:36:52', 'ticksTime': 1628793429630278.8, 'PreviousBeat': 23927, 'HwVersion': 1, 'SwVersion': 10, 'ModelNum': 2}\n",
      "Time(ms):  2021-08-12 15:36:52.968894\n"
     ]
    },
    {
     "name": "stderr",
     "output_type": "stream",
     "text": [
      "127.0.0.1 - - [12/Aug/2021 15:36:53] \"\u001b[37mPOST /flask HTTP/1.1\u001b[0m\" 200 -\n"
     ]
    },
    {
     "name": "stdout",
     "output_type": "stream",
     "text": [
      "get_json:  {'DeviceID': 21505, 'BeatTime': 24623, 'BeatCount': 9, 'ComputedHeartRate': 90, 'datatype': 0, 'datetime': '2021-08-12 18:36:53', 'ticksTime': 1628793430122342.2, 'PreviousBeat': 23927, 'HwVersion': 1, 'SwVersion': 10, 'ModelNum': 2}\n",
      "Time(ms):  2021-08-12 15:36:53.213916\n"
     ]
    },
    {
     "name": "stderr",
     "output_type": "stream",
     "text": [
      "127.0.0.1 - - [12/Aug/2021 15:36:53] \"\u001b[37mPOST /flask HTTP/1.1\u001b[0m\" 200 -\n"
     ]
    },
    {
     "name": "stdout",
     "output_type": "stream",
     "text": [
      "get_json:  {'DeviceID': 21505, 'BeatTime': 25332, 'BeatCount': 10, 'ComputedHeartRate': 90, 'datatype': 0, 'datetime': '2021-08-12 18:36:53', 'ticksTime': 1628793430615709, 'PreviousBeat': 24623, 'HwVersion': 1, 'SwVersion': 10, 'ModelNum': 2}\n",
      "Time(ms):  2021-08-12 15:36:53.460211\n"
     ]
    },
    {
     "name": "stderr",
     "output_type": "stream",
     "text": [
      "127.0.0.1 - - [12/Aug/2021 15:36:53] \"\u001b[37mPOST /flask HTTP/1.1\u001b[0m\" 200 -\n"
     ]
    },
    {
     "name": "stdout",
     "output_type": "stream",
     "text": [
      "get_json:  {'DeviceID': 21505, 'BeatTime': 25332, 'BeatCount': 10, 'ComputedHeartRate': 90, 'datatype': 0, 'datetime': '2021-08-12 18:36:53', 'ticksTime': 1628793431107662.8, 'PreviousBeat': 24623, 'HwVersion': 1, 'SwVersion': 10, 'ModelNum': 2}\n",
      "Time(ms):  2021-08-12 15:36:53.705185\n"
     ]
    },
    {
     "name": "stderr",
     "output_type": "stream",
     "text": [
      "127.0.0.1 - - [12/Aug/2021 15:36:53] \"\u001b[37mPOST /flask HTTP/1.1\u001b[0m\" 200 -\n"
     ]
    },
    {
     "name": "stdout",
     "output_type": "stream",
     "text": [
      "get_json:  {'DeviceID': 21505, 'BeatTime': 25332, 'BeatCount': 10, 'ComputedHeartRate': 90, 'datatype': 0, 'datetime': '2021-08-12 18:36:53', 'ticksTime': 1628793431600202.8, 'PreviousBeat': 24623, 'HwVersion': 1, 'SwVersion': 10, 'ModelNum': 2}\n",
      "Time(ms):  2021-08-12 15:36:53.952751\n"
     ]
    },
    {
     "name": "stderr",
     "output_type": "stream",
     "text": [
      "127.0.0.1 - - [12/Aug/2021 15:36:54] \"\u001b[37mPOST /flask HTTP/1.1\u001b[0m\" 200 -\n"
     ]
    },
    {
     "name": "stdout",
     "output_type": "stream",
     "text": [
      "get_json:  {'DeviceID': 21505, 'BeatTime': 26038, 'BeatCount': 11, 'ComputedHeartRate': 90, 'datatype': 0, 'datetime': '2021-08-12 18:36:54', 'ticksTime': 1628793432093658, 'PreviousBeat': 25332, 'HwVersion': 1, 'SwVersion': 10, 'ModelNum': 2}\n",
      "Time(ms):  2021-08-12 15:36:54.199219\n"
     ]
    },
    {
     "name": "stderr",
     "output_type": "stream",
     "text": [
      "127.0.0.1 - - [12/Aug/2021 15:36:54] \"\u001b[37mPOST /flask HTTP/1.1\u001b[0m\" 200 -\n"
     ]
    },
    {
     "name": "stdout",
     "output_type": "stream",
     "text": [
      "get_json:  {'DeviceID': 21505, 'BeatTime': 26038, 'BeatCount': 11, 'ComputedHeartRate': 90, 'datatype': 0, 'datetime': '2021-08-12 18:36:54', 'ticksTime': 1628793432585634, 'PreviousBeat': 25332, 'HwVersion': 1, 'SwVersion': 10, 'ModelNum': 2}\n",
      "Time(ms):  2021-08-12 15:36:54.444209\n"
     ]
    },
    {
     "name": "stderr",
     "output_type": "stream",
     "text": [
      "127.0.0.1 - - [12/Aug/2021 15:36:54] \"\u001b[37mPOST /flask HTTP/1.1\u001b[0m\" 200 -\n"
     ]
    },
    {
     "name": "stdout",
     "output_type": "stream",
     "text": [
      "get_json:  {'DeviceID': 21505, 'BeatTime': 26716, 'BeatCount': 12, 'ComputedHeartRate': 89, 'datatype': 0, 'datetime': '2021-08-12 18:36:54', 'ticksTime': 1628793433078120, 'PreviousBeat': 26038, 'HwVersion': 1, 'SwVersion': 10, 'ModelNum': 2}\n",
      "Time(ms):  2021-08-12 15:36:54.691604\n"
     ]
    },
    {
     "name": "stderr",
     "output_type": "stream",
     "text": [
      "127.0.0.1 - - [12/Aug/2021 15:36:54] \"\u001b[37mPOST /flask HTTP/1.1\u001b[0m\" 200 -\n"
     ]
    },
    {
     "name": "stdout",
     "output_type": "stream",
     "text": [
      "get_json:  {'DeviceID': 21505, 'BeatTime': 26716, 'BeatCount': 12, 'ComputedHeartRate': 89, 'datatype': 0, 'datetime': '2021-08-12 18:36:54', 'ticksTime': 1628793433570096.5, 'PreviousBeat': 26038, 'HwVersion': 1, 'SwVersion': 10, 'ModelNum': 2}\n",
      "Time(ms):  2021-08-12 15:36:54.937571\n"
     ]
    },
    {
     "name": "stderr",
     "output_type": "stream",
     "text": [
      "127.0.0.1 - - [12/Aug/2021 15:36:55] \"\u001b[37mPOST /flask HTTP/1.1\u001b[0m\" 200 -\n"
     ]
    },
    {
     "name": "stdout",
     "output_type": "stream",
     "text": [
      "get_json:  {'DeviceID': 21505, 'BeatTime': 26716, 'BeatCount': 12, 'ComputedHeartRate': 89, 'datatype': 0, 'datetime': '2021-08-12 18:36:55', 'ticksTime': 1628793434063733.2, 'PreviousBeat': 26038, 'HwVersion': 1, 'SwVersion': 10, 'ModelNum': 2}\n",
      "Time(ms):  2021-08-12 15:36:55.184302\n"
     ]
    },
    {
     "name": "stderr",
     "output_type": "stream",
     "text": [
      "127.0.0.1 - - [12/Aug/2021 15:36:55] \"\u001b[37mPOST /flask HTTP/1.1\u001b[0m\" 200 -\n"
     ]
    },
    {
     "name": "stdout",
     "output_type": "stream",
     "text": [
      "get_json:  {'DeviceID': 21505, 'BeatTime': 27365, 'BeatCount': 13, 'ComputedHeartRate': 89, 'datatype': 0, 'datetime': '2021-08-12 18:36:55', 'ticksTime': 1628793434555978.8, 'PreviousBeat': 26716, 'HwVersion': 1, 'SwVersion': 10, 'ModelNum': 2}\n",
      "Time(ms):  2021-08-12 15:36:55.430536\n"
     ]
    },
    {
     "name": "stderr",
     "output_type": "stream",
     "text": [
      "127.0.0.1 - - [12/Aug/2021 15:36:55] \"\u001b[37mPOST /flask HTTP/1.1\u001b[0m\" 200 -\n"
     ]
    },
    {
     "name": "stdout",
     "output_type": "stream",
     "text": [
      "get_json:  {'DeviceID': 21505, 'BeatTime': 27365, 'BeatCount': 13, 'ComputedHeartRate': 89, 'datatype': 0, 'datetime': '2021-08-12 18:36:55', 'ticksTime': 1628793435047954.2, 'PreviousBeat': 26716, 'HwVersion': 1, 'SwVersion': 10, 'ModelNum': 2}\n",
      "Time(ms):  2021-08-12 15:36:55.676515\n"
     ]
    },
    {
     "name": "stderr",
     "output_type": "stream",
     "text": [
      "127.0.0.1 - - [12/Aug/2021 15:36:55] \"\u001b[37mPOST /flask HTTP/1.1\u001b[0m\" 200 -\n"
     ]
    },
    {
     "name": "stdout",
     "output_type": "stream",
     "text": [
      "get_json:  {'DeviceID': 21505, 'BeatTime': 27365, 'BeatCount': 13, 'ComputedHeartRate': 89, 'datatype': 0, 'datetime': '2021-08-12 18:36:55', 'ticksTime': 1628793435540298, 'PreviousBeat': 26716, 'HwVersion': 1, 'SwVersion': 10, 'ModelNum': 2}\n",
      "Time(ms):  2021-08-12 15:36:55.922852\n"
     ]
    },
    {
     "name": "stderr",
     "output_type": "stream",
     "text": [
      "127.0.0.1 - - [12/Aug/2021 15:36:56] \"\u001b[37mPOST /flask HTTP/1.1\u001b[0m\" 200 -\n"
     ]
    },
    {
     "name": "stdout",
     "output_type": "stream",
     "text": [
      "get_json:  {'DeviceID': 21505, 'BeatTime': 28006, 'BeatCount': 14, 'ComputedHeartRate': 90, 'datatype': 0, 'datetime': '2021-08-12 18:36:56', 'ticksTime': 1628793436033659, 'PreviousBeat': 27365, 'HwVersion': 1, 'SwVersion': 10, 'ModelNum': 2}\n",
      "Time(ms):  2021-08-12 15:36:56.169374\n"
     ]
    },
    {
     "name": "stderr",
     "output_type": "stream",
     "text": [
      "127.0.0.1 - - [12/Aug/2021 15:36:56] \"\u001b[37mPOST /flask HTTP/1.1\u001b[0m\" 200 -\n"
     ]
    },
    {
     "name": "stdout",
     "output_type": "stream",
     "text": [
      "get_json:  {'DeviceID': 21505, 'BeatTime': 28006, 'BeatCount': 14, 'ComputedHeartRate': 90, 'datatype': 0, 'datetime': '2021-08-12 18:36:56', 'ticksTime': 1628793436525813, 'PreviousBeat': 27365, 'HwVersion': 1, 'SwVersion': 10, 'ModelNum': 2}\n",
      "Time(ms):  2021-08-12 15:36:56.415389\n"
     ]
    },
    {
     "name": "stderr",
     "output_type": "stream",
     "text": [
      "127.0.0.1 - - [12/Aug/2021 15:36:56] \"\u001b[37mPOST /flask HTTP/1.1\u001b[0m\" 200 -\n"
     ]
    },
    {
     "name": "stdout",
     "output_type": "stream",
     "text": [
      "get_json:  {'DeviceID': 21505, 'BeatTime': 28006, 'BeatCount': 14, 'ComputedHeartRate': 90, 'datatype': 0, 'datetime': '2021-08-12 18:36:56', 'ticksTime': 1628793437018169.2, 'PreviousBeat': 27365, 'HwVersion': 1, 'SwVersion': 10, 'ModelNum': 2}\n",
      "Time(ms):  2021-08-12 15:36:56.661851\n"
     ]
    },
    {
     "name": "stderr",
     "output_type": "stream",
     "text": [
      "127.0.0.1 - - [12/Aug/2021 15:36:57] \"\u001b[37mPOST /flask HTTP/1.1\u001b[0m\" 200 -\n"
     ]
    },
    {
     "name": "stdout",
     "output_type": "stream",
     "text": [
      "get_json:  {'DeviceID': 21505, 'BeatTime': 28663, 'BeatCount': 15, 'ComputedHeartRate': 90, 'datatype': 0, 'datetime': '2021-08-12 18:36:57', 'ticksTime': 1628793438003634.8, 'PreviousBeat': 28006, 'HwVersion': 1, 'SwVersion': 10, 'ModelNum': 2}\n",
      "Time(ms):  2021-08-12 15:36:57.154398\n"
     ]
    },
    {
     "name": "stderr",
     "output_type": "stream",
     "text": [
      "127.0.0.1 - - [12/Aug/2021 15:36:57] \"\u001b[37mPOST /flask HTTP/1.1\u001b[0m\" 200 -\n"
     ]
    },
    {
     "name": "stdout",
     "output_type": "stream",
     "text": [
      "get_json:  {'DeviceID': 21505, 'BeatTime': 28663, 'BeatCount': 15, 'ComputedHeartRate': 90, 'datatype': 0, 'datetime': '2021-08-12 18:36:57', 'ticksTime': 1628793438987906.8, 'PreviousBeat': 28006, 'HwVersion': 1, 'SwVersion': 10, 'ModelNum': 2}\n",
      "Time(ms):  2021-08-12 15:36:57.645508\n"
     ]
    },
    {
     "name": "stderr",
     "output_type": "stream",
     "text": [
      "127.0.0.1 - - [12/Aug/2021 15:36:57] \"\u001b[37mPOST /flask HTTP/1.1\u001b[0m\" 200 -\n"
     ]
    },
    {
     "name": "stdout",
     "output_type": "stream",
     "text": [
      "get_json:  {'DeviceID': 21505, 'BeatTime': 29367, 'BeatCount': 16, 'ComputedHeartRate': 91, 'datatype': 0, 'datetime': '2021-08-12 18:36:57', 'ticksTime': 1628793439481488.2, 'PreviousBeat': 28663, 'HwVersion': 1, 'SwVersion': 10, 'ModelNum': 2}\n",
      "Time(ms):  2021-08-12 15:36:57.893145\n"
     ]
    },
    {
     "name": "stderr",
     "output_type": "stream",
     "text": [
      "127.0.0.1 - - [12/Aug/2021 15:36:58] \"\u001b[37mPOST /flask HTTP/1.1\u001b[0m\" 200 -\n"
     ]
    },
    {
     "name": "stdout",
     "output_type": "stream",
     "text": [
      "get_json:  {'DeviceID': 21505, 'BeatTime': 29367, 'BeatCount': 16, 'ComputedHeartRate': 91, 'datatype': 0, 'datetime': '2021-08-12 18:36:58', 'ticksTime': 1628793439973466.2, 'PreviousBeat': 28663, 'HwVersion': 1, 'SwVersion': 10, 'ModelNum': 2}\n",
      "Time(ms):  2021-08-12 15:36:58.140295\n"
     ]
    },
    {
     "name": "stderr",
     "output_type": "stream",
     "text": [
      "127.0.0.1 - - [12/Aug/2021 15:36:58] \"\u001b[37mPOST /flask HTTP/1.1\u001b[0m\" 200 -\n"
     ]
    },
    {
     "name": "stdout",
     "output_type": "stream",
     "text": [
      "get_json:  {'DeviceID': 21505, 'BeatTime': 29367, 'BeatCount': 16, 'ComputedHeartRate': 91, 'datatype': 0, 'datetime': '2021-08-12 18:36:58', 'ticksTime': 1628793440466098, 'PreviousBeat': 28663, 'HwVersion': 1, 'SwVersion': 10, 'ModelNum': 2}\n",
      "Time(ms):  2021-08-12 15:36:58.385832\n"
     ]
    },
    {
     "name": "stderr",
     "output_type": "stream",
     "text": [
      "127.0.0.1 - - [12/Aug/2021 15:36:58] \"\u001b[37mPOST /flask HTTP/1.1\u001b[0m\" 200 -\n"
     ]
    },
    {
     "name": "stdout",
     "output_type": "stream",
     "text": [
      "get_json:  {'DeviceID': 21505, 'BeatTime': 30140, 'BeatCount': 17, 'ComputedHeartRate': 91, 'datatype': 0, 'datetime': '2021-08-12 18:36:58', 'ticksTime': 1628793440958348.5, 'PreviousBeat': 29367, 'HwVersion': 1, 'SwVersion': 10, 'ModelNum': 2}\n",
      "Time(ms):  2021-08-12 15:36:58.632119\n"
     ]
    },
    {
     "name": "stderr",
     "output_type": "stream",
     "text": [
      "127.0.0.1 - - [12/Aug/2021 15:36:58] \"\u001b[37mPOST /flask HTTP/1.1\u001b[0m\" 200 -\n"
     ]
    },
    {
     "name": "stdout",
     "output_type": "stream",
     "text": [
      "get_json:  {'DeviceID': 21505, 'BeatTime': 30140, 'BeatCount': 17, 'ComputedHeartRate': 91, 'datatype': 0, 'datetime': '2021-08-12 18:36:58', 'ticksTime': 1628793441450236.2, 'PreviousBeat': 29367, 'HwVersion': 1, 'SwVersion': 10, 'ModelNum': 2}\n",
      "Time(ms):  2021-08-12 15:36:58.877239\n"
     ]
    },
    {
     "name": "stderr",
     "output_type": "stream",
     "text": [
      "127.0.0.1 - - [12/Aug/2021 15:36:59] \"\u001b[37mPOST /flask HTTP/1.1\u001b[0m\" 200 -\n"
     ]
    },
    {
     "name": "stdout",
     "output_type": "stream",
     "text": [
      "get_json:  {'DeviceID': 21505, 'BeatTime': 30140, 'BeatCount': 17, 'ComputedHeartRate': 91, 'datatype': 0, 'datetime': '2021-08-12 18:36:59', 'ticksTime': 1628793441943961, 'PreviousBeat': 29367, 'HwVersion': 1, 'SwVersion': 10, 'ModelNum': 2}\n",
      "Time(ms):  2021-08-12 15:36:59.124669\n"
     ]
    },
    {
     "name": "stderr",
     "output_type": "stream",
     "text": [
      "127.0.0.1 - - [12/Aug/2021 15:36:59] \"\u001b[37mPOST /flask HTTP/1.1\u001b[0m\" 200 -\n"
     ]
    },
    {
     "name": "stdout",
     "output_type": "stream",
     "text": [
      "get_json:  {'DeviceID': 21505, 'BeatTime': 31016, 'BeatCount': 18, 'ComputedHeartRate': 90, 'datatype': 0, 'datetime': '2021-08-12 18:36:59', 'ticksTime': 1628793442436104.5, 'PreviousBeat': 30140, 'HwVersion': 1, 'SwVersion': 10, 'ModelNum': 2}\n",
      "Time(ms):  2021-08-12 15:36:59.371217\n"
     ]
    },
    {
     "name": "stderr",
     "output_type": "stream",
     "text": [
      "127.0.0.1 - - [12/Aug/2021 15:36:59] \"\u001b[37mPOST /flask HTTP/1.1\u001b[0m\" 200 -\n"
     ]
    },
    {
     "name": "stdout",
     "output_type": "stream",
     "text": [
      "get_json:  {'DeviceID': 21505, 'BeatTime': 31016, 'BeatCount': 18, 'ComputedHeartRate': 90, 'datatype': 0, 'datetime': '2021-08-12 18:36:59', 'ticksTime': 1628793442928293, 'PreviousBeat': 30140, 'HwVersion': 1, 'SwVersion': 10, 'ModelNum': 2}\n",
      "Time(ms):  2021-08-12 15:36:59.616897\n"
     ]
    },
    {
     "name": "stderr",
     "output_type": "stream",
     "text": [
      "127.0.0.1 - - [12/Aug/2021 15:36:59] \"\u001b[37mPOST /flask HTTP/1.1\u001b[0m\" 200 -\n"
     ]
    },
    {
     "name": "stdout",
     "output_type": "stream",
     "text": [
      "get_json:  {'DeviceID': 21505, 'BeatTime': 31016, 'BeatCount': 18, 'ComputedHeartRate': 90, 'datatype': 0, 'datetime': '2021-08-12 18:36:59', 'ticksTime': 1628793443421601.2, 'PreviousBeat': 30140, 'HwVersion': 1, 'SwVersion': 10, 'ModelNum': 2}\n",
      "Time(ms):  2021-08-12 15:36:59.864569\n"
     ]
    },
    {
     "name": "stderr",
     "output_type": "stream",
     "text": [
      "127.0.0.1 - - [12/Aug/2021 15:37:00] \"\u001b[37mPOST /flask HTTP/1.1\u001b[0m\" 200 -\n"
     ]
    },
    {
     "name": "stdout",
     "output_type": "stream",
     "text": [
      "get_json:  {'DeviceID': 21505, 'BeatTime': 31016, 'BeatCount': 18, 'ComputedHeartRate': 90, 'datatype': 0, 'datetime': '2021-08-12 18:37:00', 'ticksTime': 1628793443913567, 'PreviousBeat': 30140, 'HwVersion': 1, 'SwVersion': 10, 'ModelNum': 2}\n",
      "Time(ms):  2021-08-12 15:37:00.108489\n"
     ]
    },
    {
     "name": "stderr",
     "output_type": "stream",
     "text": [
      "127.0.0.1 - - [12/Aug/2021 15:37:00] \"\u001b[37mPOST /flask HTTP/1.1\u001b[0m\" 200 -\n"
     ]
    },
    {
     "name": "stdout",
     "output_type": "stream",
     "text": [
      "get_json:  {'DeviceID': 21505, 'BeatTime': 31964, 'BeatCount': 19, 'ComputedHeartRate': 84, 'datatype': 0, 'datetime': '2021-08-12 18:37:00', 'ticksTime': 1628793444406173.2, 'PreviousBeat': 31016, 'HwVersion': 1, 'SwVersion': 10, 'ModelNum': 2}\n",
      "Time(ms):  2021-08-12 15:37:00.355840\n"
     ]
    },
    {
     "name": "stderr",
     "output_type": "stream",
     "text": [
      "127.0.0.1 - - [12/Aug/2021 15:37:00] \"\u001b[37mPOST /flask HTTP/1.1\u001b[0m\" 200 -\n"
     ]
    },
    {
     "name": "stdout",
     "output_type": "stream",
     "text": [
      "get_json:  {'DeviceID': 21505, 'BeatTime': 31964, 'BeatCount': 19, 'ComputedHeartRate': 84, 'datatype': 0, 'datetime': '2021-08-12 18:37:00', 'ticksTime': 1628793444899421.5, 'PreviousBeat': 31016, 'HwVersion': 1, 'SwVersion': 10, 'ModelNum': 2}\n",
      "Time(ms):  2021-08-12 15:37:00.602406\n"
     ]
    },
    {
     "name": "stderr",
     "output_type": "stream",
     "text": [
      "127.0.0.1 - - [12/Aug/2021 15:37:00] \"\u001b[37mPOST /flask HTTP/1.1\u001b[0m\" 200 -\n"
     ]
    },
    {
     "name": "stdout",
     "output_type": "stream",
     "text": [
      "get_json:  {'DeviceID': 21505, 'BeatTime': 31964, 'BeatCount': 19, 'ComputedHeartRate': 84, 'datatype': 0, 'datetime': '2021-08-12 18:37:00', 'ticksTime': 1628793445391471.5, 'PreviousBeat': 31016, 'HwVersion': 1, 'SwVersion': 10, 'ModelNum': 2}\n",
      "Time(ms):  2021-08-12 15:37:00.847458\n"
     ]
    },
    {
     "name": "stderr",
     "output_type": "stream",
     "text": [
      "127.0.0.1 - - [12/Aug/2021 15:37:01] \"\u001b[37mPOST /flask HTTP/1.1\u001b[0m\" 200 -\n"
     ]
    },
    {
     "name": "stdout",
     "output_type": "stream",
     "text": [
      "get_json:  {'DeviceID': 21505, 'BeatTime': 32825, 'BeatCount': 20, 'ComputedHeartRate': 82, 'datatype': 0, 'datetime': '2021-08-12 18:37:01', 'ticksTime': 1628793445883807.8, 'PreviousBeat': 31964, 'HwVersion': 1, 'SwVersion': 10, 'ModelNum': 2}\n",
      "Time(ms):  2021-08-12 15:37:01.095681\n"
     ]
    },
    {
     "name": "stderr",
     "output_type": "stream",
     "text": [
      "127.0.0.1 - - [12/Aug/2021 15:37:01] \"\u001b[37mPOST /flask HTTP/1.1\u001b[0m\" 200 -\n"
     ]
    },
    {
     "name": "stdout",
     "output_type": "stream",
     "text": [
      "get_json:  {'DeviceID': 21505, 'BeatTime': 32825, 'BeatCount': 20, 'ComputedHeartRate': 82, 'datatype': 0, 'datetime': '2021-08-12 18:37:01', 'ticksTime': 1628793446375899, 'PreviousBeat': 31964, 'HwVersion': 1, 'SwVersion': 10, 'ModelNum': 2}\n",
      "Time(ms):  2021-08-12 15:37:01.339765\n"
     ]
    },
    {
     "name": "stderr",
     "output_type": "stream",
     "text": [
      "127.0.0.1 - - [12/Aug/2021 15:37:01] \"\u001b[37mPOST /flask HTTP/1.1\u001b[0m\" 200 -\n"
     ]
    },
    {
     "name": "stdout",
     "output_type": "stream",
     "text": [
      "get_json:  {'DeviceID': 21505, 'BeatTime': 32825, 'BeatCount': 20, 'ComputedHeartRate': 82, 'datatype': 0, 'datetime': '2021-08-12 18:37:01', 'ticksTime': 1628793446869349, 'PreviousBeat': 31964, 'HwVersion': 1, 'SwVersion': 10, 'ModelNum': 2}\n",
      "Time(ms):  2021-08-12 15:37:01.588185\n"
     ]
    },
    {
     "name": "stderr",
     "output_type": "stream",
     "text": [
      "127.0.0.1 - - [12/Aug/2021 15:37:01] \"\u001b[37mPOST /flask HTTP/1.1\u001b[0m\" 200 -\n"
     ]
    },
    {
     "name": "stdout",
     "output_type": "stream",
     "text": [
      "get_json:  {'DeviceID': 21505, 'BeatTime': 33708, 'BeatCount': 21, 'ComputedHeartRate': 81, 'datatype': 0, 'datetime': '2021-08-12 18:37:01', 'ticksTime': 1628793447361754, 'PreviousBeat': 32825, 'HwVersion': 1, 'SwVersion': 10, 'ModelNum': 2}\n",
      "Time(ms):  2021-08-12 15:37:01.836975\n"
     ]
    },
    {
     "name": "stderr",
     "output_type": "stream",
     "text": [
      "127.0.0.1 - - [12/Aug/2021 15:37:02] \"\u001b[37mPOST /flask HTTP/1.1\u001b[0m\" 200 -\n"
     ]
    },
    {
     "name": "stdout",
     "output_type": "stream",
     "text": [
      "get_json:  {'DeviceID': 21505, 'BeatTime': 33708, 'BeatCount': 21, 'ComputedHeartRate': 81, 'datatype': 0, 'datetime': '2021-08-12 18:37:02', 'ticksTime': 1628793447854102.2, 'PreviousBeat': 32825, 'HwVersion': 1, 'SwVersion': 10, 'ModelNum': 2}\n",
      "Time(ms):  2021-08-12 15:37:02.080598\n"
     ]
    },
    {
     "name": "stderr",
     "output_type": "stream",
     "text": [
      "127.0.0.1 - - [12/Aug/2021 15:37:02] \"\u001b[37mPOST /flask HTTP/1.1\u001b[0m\" 200 -\n"
     ]
    },
    {
     "name": "stdout",
     "output_type": "stream",
     "text": [
      "get_json:  {'DeviceID': 21505, 'BeatTime': 33708, 'BeatCount': 21, 'ComputedHeartRate': 81, 'datatype': 0, 'datetime': '2021-08-12 18:37:02', 'ticksTime': 1628793448346042.5, 'PreviousBeat': 32825, 'HwVersion': 1, 'SwVersion': 10, 'ModelNum': 2}\n",
      "Time(ms):  2021-08-12 15:37:02.326193\n"
     ]
    },
    {
     "name": "stderr",
     "output_type": "stream",
     "text": [
      "127.0.0.1 - - [12/Aug/2021 15:37:02] \"\u001b[37mPOST /flask HTTP/1.1\u001b[0m\" 200 -\n"
     ]
    },
    {
     "name": "stdout",
     "output_type": "stream",
     "text": [
      "get_json:  {'DeviceID': 21505, 'BeatTime': 34582, 'BeatCount': 22, 'ComputedHeartRate': 80, 'datatype': 0, 'datetime': '2021-08-12 18:37:02', 'ticksTime': 1628793448838292, 'PreviousBeat': 33708, 'HwVersion': 1, 'SwVersion': 10, 'ModelNum': 2}\n",
      "Time(ms):  2021-08-12 15:37:02.571489\n"
     ]
    },
    {
     "name": "stderr",
     "output_type": "stream",
     "text": [
      "127.0.0.1 - - [12/Aug/2021 15:37:02] \"\u001b[37mPOST /flask HTTP/1.1\u001b[0m\" 200 -\n"
     ]
    },
    {
     "name": "stdout",
     "output_type": "stream",
     "text": [
      "get_json:  {'DeviceID': 21505, 'BeatTime': 34582, 'BeatCount': 22, 'ComputedHeartRate': 80, 'datatype': 0, 'datetime': '2021-08-12 18:37:02', 'ticksTime': 1628793449331476, 'PreviousBeat': 33708, 'HwVersion': 1, 'SwVersion': 10, 'ModelNum': 2}\n",
      "Time(ms):  2021-08-12 15:37:02.817141\n"
     ]
    },
    {
     "name": "stderr",
     "output_type": "stream",
     "text": [
      "127.0.0.1 - - [12/Aug/2021 15:37:03] \"\u001b[37mPOST /flask HTTP/1.1\u001b[0m\" 200 -\n"
     ]
    },
    {
     "name": "stdout",
     "output_type": "stream",
     "text": [
      "get_json:  {'DeviceID': 21505, 'BeatTime': 34582, 'BeatCount': 22, 'ComputedHeartRate': 80, 'datatype': 0, 'datetime': '2021-08-12 18:37:03', 'ticksTime': 1628793449823917.2, 'PreviousBeat': 33708, 'HwVersion': 1, 'SwVersion': 10, 'ModelNum': 2}\n",
      "Time(ms):  2021-08-12 15:37:03.063949\n"
     ]
    },
    {
     "name": "stderr",
     "output_type": "stream",
     "text": [
      "127.0.0.1 - - [12/Aug/2021 15:37:03] \"\u001b[37mPOST /flask HTTP/1.1\u001b[0m\" 200 -\n"
     ]
    },
    {
     "name": "stdout",
     "output_type": "stream",
     "text": [
      "get_json:  {'DeviceID': 21505, 'BeatTime': 35354, 'BeatCount': 23, 'ComputedHeartRate': 79, 'datatype': 0, 'datetime': '2021-08-12 18:37:03', 'ticksTime': 1628793450317348, 'PreviousBeat': 34582, 'HwVersion': 1, 'SwVersion': 10, 'ModelNum': 2}\n",
      "Time(ms):  2021-08-12 15:37:03.311188\n"
     ]
    },
    {
     "name": "stderr",
     "output_type": "stream",
     "text": [
      "127.0.0.1 - - [12/Aug/2021 15:37:03] \"\u001b[37mPOST /flask HTTP/1.1\u001b[0m\" 200 -\n"
     ]
    },
    {
     "name": "stdout",
     "output_type": "stream",
     "text": [
      "get_json:  {'DeviceID': 21505, 'BeatTime': 35354, 'BeatCount': 23, 'ComputedHeartRate': 79, 'datatype': 0, 'datetime': '2021-08-12 18:37:03', 'ticksTime': 1628793450809705.2, 'PreviousBeat': 34582, 'HwVersion': 1, 'SwVersion': 10, 'ModelNum': 2}\n",
      "Time(ms):  2021-08-12 15:37:03.557446\n"
     ]
    },
    {
     "name": "stderr",
     "output_type": "stream",
     "text": [
      "127.0.0.1 - - [12/Aug/2021 15:37:03] \"\u001b[37mPOST /flask HTTP/1.1\u001b[0m\" 200 -\n"
     ]
    },
    {
     "name": "stdout",
     "output_type": "stream",
     "text": [
      "get_json:  {'DeviceID': 21505, 'BeatTime': 35354, 'BeatCount': 23, 'ComputedHeartRate': 79, 'datatype': 0, 'datetime': '2021-08-12 18:37:03', 'ticksTime': 1628793451303690.8, 'PreviousBeat': 34582, 'HwVersion': 1, 'SwVersion': 10, 'ModelNum': 2}\n",
      "Time(ms):  2021-08-12 15:37:03.805927\n"
     ]
    },
    {
     "name": "stderr",
     "output_type": "stream",
     "text": [
      "127.0.0.1 - - [12/Aug/2021 15:37:04] \"\u001b[37mPOST /flask HTTP/1.1\u001b[0m\" 200 -\n"
     ]
    },
    {
     "name": "stdout",
     "output_type": "stream",
     "text": [
      "get_json:  {'DeviceID': 21505, 'BeatTime': 36102, 'BeatCount': 24, 'ComputedHeartRate': 78, 'datatype': 0, 'datetime': '2021-08-12 18:37:04', 'ticksTime': 1628793451793802.2, 'PreviousBeat': 35354, 'HwVersion': 1, 'SwVersion': 10, 'ModelNum': 2}\n",
      "Time(ms):  2021-08-12 15:37:04.048714\n"
     ]
    },
    {
     "name": "stderr",
     "output_type": "stream",
     "text": [
      "127.0.0.1 - - [12/Aug/2021 15:37:04] \"\u001b[37mPOST /flask HTTP/1.1\u001b[0m\" 200 -\n"
     ]
    },
    {
     "name": "stdout",
     "output_type": "stream",
     "text": [
      "get_json:  {'DeviceID': 21505, 'BeatTime': 36102, 'BeatCount': 24, 'ComputedHeartRate': 78, 'datatype': 0, 'datetime': '2021-08-12 18:37:04', 'ticksTime': 1628793452287283.2, 'PreviousBeat': 35354, 'HwVersion': 1, 'SwVersion': 10, 'ModelNum': 2}\n",
      "Time(ms):  2021-08-12 15:37:04.296876\n"
     ]
    },
    {
     "name": "stderr",
     "output_type": "stream",
     "text": [
      "127.0.0.1 - - [12/Aug/2021 15:37:04] \"\u001b[37mPOST /flask HTTP/1.1\u001b[0m\" 200 -\n"
     ]
    },
    {
     "name": "stdout",
     "output_type": "stream",
     "text": [
      "get_json:  {'DeviceID': 21505, 'BeatTime': 36102, 'BeatCount': 24, 'ComputedHeartRate': 78, 'datatype': 0, 'datetime': '2021-08-12 18:37:04', 'ticksTime': 1628793452779377, 'PreviousBeat': 35354, 'HwVersion': 1, 'SwVersion': 10, 'ModelNum': 2}\n",
      "Time(ms):  2021-08-12 15:37:04.541148\n"
     ]
    },
    {
     "name": "stderr",
     "output_type": "stream",
     "text": [
      "127.0.0.1 - - [12/Aug/2021 15:37:04] \"\u001b[37mPOST /flask HTTP/1.1\u001b[0m\" 200 -\n"
     ]
    },
    {
     "name": "stdout",
     "output_type": "stream",
     "text": [
      "get_json:  {'DeviceID': 21505, 'BeatTime': 36850, 'BeatCount': 25, 'ComputedHeartRate': 78, 'datatype': 0, 'datetime': '2021-08-12 18:37:04', 'ticksTime': 1628793453271916.2, 'PreviousBeat': 36102, 'HwVersion': 1, 'SwVersion': 10, 'ModelNum': 2}\n",
      "Time(ms):  2021-08-12 15:37:04.788822\n"
     ]
    },
    {
     "name": "stderr",
     "output_type": "stream",
     "text": [
      "127.0.0.1 - - [12/Aug/2021 15:37:05] \"\u001b[37mPOST /flask HTTP/1.1\u001b[0m\" 200 -\n"
     ]
    },
    {
     "name": "stdout",
     "output_type": "stream",
     "text": [
      "get_json:  {'DeviceID': 21505, 'BeatTime': 36850, 'BeatCount': 25, 'ComputedHeartRate': 78, 'datatype': 0, 'datetime': '2021-08-12 18:37:05', 'ticksTime': 1628793453764130.2, 'PreviousBeat': 36102, 'HwVersion': 1, 'SwVersion': 10, 'ModelNum': 2}\n",
      "Time(ms):  2021-08-12 15:37:05.034999\n"
     ]
    },
    {
     "name": "stderr",
     "output_type": "stream",
     "text": [
      "127.0.0.1 - - [12/Aug/2021 15:37:05] \"\u001b[37mPOST /flask HTTP/1.1\u001b[0m\" 200 -\n"
     ]
    },
    {
     "name": "stdout",
     "output_type": "stream",
     "text": [
      "get_json:  {'DeviceID': 21505, 'BeatTime': 37560, 'BeatCount': 26, 'ComputedHeartRate': 79, 'datatype': 0, 'datetime': '2021-08-12 18:37:05', 'ticksTime': 1628793454749715.2, 'PreviousBeat': 36850, 'HwVersion': 1, 'SwVersion': 10, 'ModelNum': 2}\n",
      "Time(ms):  2021-08-12 15:37:05.527420\n"
     ]
    },
    {
     "name": "stderr",
     "output_type": "stream",
     "text": [
      "127.0.0.1 - - [12/Aug/2021 15:37:05] \"\u001b[37mPOST /flask HTTP/1.1\u001b[0m\" 200 -\n"
     ]
    },
    {
     "name": "stdout",
     "output_type": "stream",
     "text": [
      "get_json:  {'DeviceID': 21505, 'BeatTime': 37560, 'BeatCount': 26, 'ComputedHeartRate': 79, 'datatype': 0, 'datetime': '2021-08-12 18:37:05', 'ticksTime': 1628793455241916.2, 'PreviousBeat': 36850, 'HwVersion': 1, 'SwVersion': 10, 'ModelNum': 2, 'BatteryLevel': 80, 'BatteryVoltage': 15.99609375, 'BatteryStatus': 'Ok'}\n",
      "Time(ms):  2021-08-12 15:37:05.774923\n"
     ]
    },
    {
     "name": "stderr",
     "output_type": "stream",
     "text": [
      "127.0.0.1 - - [12/Aug/2021 15:37:06] \"\u001b[37mPOST /flask HTTP/1.1\u001b[0m\" 200 -\n"
     ]
    },
    {
     "name": "stdout",
     "output_type": "stream",
     "text": [
      "get_json:  {'DeviceID': 21505, 'BeatTime': 38236, 'BeatCount': 27, 'ComputedHeartRate': 79, 'datatype': 0, 'datetime': '2021-08-12 18:37:06', 'ticksTime': 1628793455735248.2, 'PreviousBeat': 36850, 'HwVersion': 1, 'SwVersion': 10, 'ModelNum': 2, 'BatteryLevel': 80, 'BatteryVoltage': 15.99609375, 'BatteryStatus': 'Ok'}\n",
      "Time(ms):  2021-08-12 15:37:06.020075\n"
     ]
    },
    {
     "name": "stderr",
     "output_type": "stream",
     "text": [
      "127.0.0.1 - - [12/Aug/2021 15:37:06] \"\u001b[37mPOST /flask HTTP/1.1\u001b[0m\" 200 -\n"
     ]
    },
    {
     "name": "stdout",
     "output_type": "stream",
     "text": [
      "get_json:  {'DeviceID': 21505, 'BeatTime': 38236, 'BeatCount': 27, 'ComputedHeartRate': 79, 'datatype': 0, 'datetime': '2021-08-12 18:37:06', 'ticksTime': 1628793456227401, 'PreviousBeat': 36850, 'HwVersion': 1, 'SwVersion': 10, 'ModelNum': 2, 'BatteryLevel': 80, 'BatteryVoltage': 15.99609375, 'BatteryStatus': 'Ok'}\n",
      "Time(ms):  2021-08-12 15:37:06.266408\n"
     ]
    },
    {
     "name": "stderr",
     "output_type": "stream",
     "text": [
      "127.0.0.1 - - [12/Aug/2021 15:37:06] \"\u001b[37mPOST /flask HTTP/1.1\u001b[0m\" 200 -\n"
     ]
    },
    {
     "name": "stdout",
     "output_type": "stream",
     "text": [
      "get_json:  {'DeviceID': 21505, 'BeatTime': 38236, 'BeatCount': 27, 'ComputedHeartRate': 79, 'datatype': 0, 'datetime': '2021-08-12 18:37:06', 'ticksTime': 1628793456719467, 'PreviousBeat': 36850, 'HwVersion': 1, 'SwVersion': 10, 'ModelNum': 2, 'BatteryLevel': 80, 'BatteryVoltage': 15.99609375, 'BatteryStatus': 'Ok'}\n",
      "Time(ms):  2021-08-12 15:37:06.511697\n"
     ]
    },
    {
     "name": "stderr",
     "output_type": "stream",
     "text": [
      "127.0.0.1 - - [12/Aug/2021 15:37:06] \"\u001b[37mPOST /flask HTTP/1.1\u001b[0m\" 200 -\n"
     ]
    },
    {
     "name": "stdout",
     "output_type": "stream",
     "text": [
      "get_json:  {'DeviceID': 21505, 'BeatTime': 38908, 'BeatCount': 28, 'ComputedHeartRate': 80, 'datatype': 0, 'datetime': '2021-08-12 18:37:06', 'ticksTime': 1628793457212014.8, 'PreviousBeat': 38236, 'HwVersion': 1, 'SwVersion': 10, 'ModelNum': 2, 'BatteryLevel': 80, 'BatteryVoltage': 15.99609375, 'BatteryStatus': 'Ok'}\n",
      "Time(ms):  2021-08-12 15:37:06.759212\n"
     ]
    },
    {
     "name": "stderr",
     "output_type": "stream",
     "text": [
      "127.0.0.1 - - [12/Aug/2021 15:37:07] \"\u001b[37mPOST /flask HTTP/1.1\u001b[0m\" 200 -\n"
     ]
    },
    {
     "name": "stdout",
     "output_type": "stream",
     "text": [
      "get_json:  {'DeviceID': 21505, 'BeatTime': 38908, 'BeatCount': 28, 'ComputedHeartRate': 80, 'datatype': 0, 'datetime': '2021-08-12 18:37:07', 'ticksTime': 1628793458197554.8, 'PreviousBeat': 38236, 'HwVersion': 1, 'SwVersion': 10, 'ModelNum': 2, 'BatteryLevel': 80, 'BatteryVoltage': 15.99609375, 'BatteryStatus': 'Ok'}\n",
      "Time(ms):  2021-08-12 15:37:07.252750\n"
     ]
    },
    {
     "name": "stderr",
     "output_type": "stream",
     "text": [
      "127.0.0.1 - - [12/Aug/2021 15:37:07] \"\u001b[37mPOST /flask HTTP/1.1\u001b[0m\" 200 -\n"
     ]
    },
    {
     "name": "stdout",
     "output_type": "stream",
     "text": [
      "get_json:  {'DeviceID': 21505, 'BeatTime': 39603, 'BeatCount': 29, 'ComputedHeartRate': 81, 'datatype': 0, 'datetime': '2021-08-12 18:37:07', 'ticksTime': 1628793458689700.5, 'PreviousBeat': 38908, 'HwVersion': 1, 'SwVersion': 10, 'ModelNum': 2, 'BatteryLevel': 80, 'BatteryVoltage': 15.99609375, 'BatteryStatus': 'Ok'}\n",
      "Time(ms):  2021-08-12 15:37:07.496872\n"
     ]
    },
    {
     "name": "stderr",
     "output_type": "stream",
     "text": [
      "127.0.0.1 - - [12/Aug/2021 15:37:07] \"\u001b[37mPOST /flask HTTP/1.1\u001b[0m\" 200 -\n"
     ]
    },
    {
     "name": "stdout",
     "output_type": "stream",
     "text": [
      "get_json:  {'DeviceID': 21505, 'BeatTime': 39603, 'BeatCount': 29, 'ComputedHeartRate': 81, 'datatype': 0, 'datetime': '2021-08-12 18:37:07', 'ticksTime': 1628793459674030.2, 'PreviousBeat': 38908, 'HwVersion': 1, 'SwVersion': 10, 'ModelNum': 2, 'BatteryLevel': 80, 'BatteryVoltage': 15.99609375, 'BatteryStatus': 'Ok'}\n",
      "Time(ms):  2021-08-12 15:37:07.988950\n"
     ]
    },
    {
     "name": "stderr",
     "output_type": "stream",
     "text": [
      "127.0.0.1 - - [12/Aug/2021 15:37:08] \"\u001b[37mPOST /flask HTTP/1.1\u001b[0m\" 200 -\n"
     ]
    },
    {
     "name": "stdout",
     "output_type": "stream",
     "text": [
      "get_json:  {'DeviceID': 21505, 'BeatTime': 40308, 'BeatCount': 30, 'ComputedHeartRate': 82, 'datatype': 0, 'datetime': '2021-08-12 18:37:08', 'ticksTime': 1628793460167648.2, 'PreviousBeat': 39603, 'HwVersion': 1, 'SwVersion': 10, 'ModelNum': 2, 'BatteryLevel': 80, 'BatteryVoltage': 15.99609375, 'BatteryStatus': 'Ok'}\n",
      "Time(ms):  2021-08-12 15:37:08.236507\n"
     ]
    },
    {
     "name": "stderr",
     "output_type": "stream",
     "text": [
      "127.0.0.1 - - [12/Aug/2021 15:37:08] \"\u001b[37mPOST /flask HTTP/1.1\u001b[0m\" 200 -\n"
     ]
    },
    {
     "name": "stdout",
     "output_type": "stream",
     "text": [
      "get_json:  {'DeviceID': 21505, 'BeatTime': 40308, 'BeatCount': 30, 'ComputedHeartRate': 82, 'datatype': 0, 'datetime': '2021-08-12 18:37:08', 'ticksTime': 1628793460659936, 'PreviousBeat': 39603, 'HwVersion': 1, 'SwVersion': 10, 'ModelNum': 2, 'BatteryLevel': 80, 'BatteryVoltage': 15.99609375, 'BatteryStatus': 'Ok'}\n",
      "Time(ms):  2021-08-12 15:37:08.482921\n"
     ]
    },
    {
     "name": "stderr",
     "output_type": "stream",
     "text": [
      "127.0.0.1 - - [12/Aug/2021 15:37:08] \"\u001b[37mPOST /flask HTTP/1.1\u001b[0m\" 200 -\n"
     ]
    },
    {
     "name": "stdout",
     "output_type": "stream",
     "text": [
      "get_json:  {'DeviceID': 21505, 'BeatTime': 40308, 'BeatCount': 30, 'ComputedHeartRate': 82, 'datatype': 0, 'datetime': '2021-08-12 18:37:08', 'ticksTime': 1628793461151868.5, 'PreviousBeat': 39603, 'HwVersion': 1, 'SwVersion': 10, 'ModelNum': 2, 'BatteryLevel': 80, 'BatteryVoltage': 15.99609375, 'BatteryStatus': 'Ok'}\n",
      "Time(ms):  2021-08-12 15:37:08.729915\n"
     ]
    },
    {
     "name": "stderr",
     "output_type": "stream",
     "text": [
      "127.0.0.1 - - [12/Aug/2021 15:37:08] \"\u001b[37mPOST /flask HTTP/1.1\u001b[0m\" 200 -\n"
     ]
    },
    {
     "name": "stdout",
     "output_type": "stream",
     "text": [
      "get_json:  {'DeviceID': 21505, 'BeatTime': 41016, 'BeatCount': 31, 'ComputedHeartRate': 83, 'datatype': 0, 'datetime': '2021-08-12 18:37:08', 'ticksTime': 1628793461645406.2, 'PreviousBeat': 40308, 'HwVersion': 1, 'SwVersion': 10, 'ModelNum': 2, 'BatteryLevel': 80, 'BatteryVoltage': 15.99609375, 'BatteryStatus': 'Ok'}\n",
      "Time(ms):  2021-08-12 15:37:08.975662\n"
     ]
    },
    {
     "name": "stderr",
     "output_type": "stream",
     "text": [
      "127.0.0.1 - - [12/Aug/2021 15:37:09] \"\u001b[37mPOST /flask HTTP/1.1\u001b[0m\" 200 -\n"
     ]
    },
    {
     "name": "stdout",
     "output_type": "stream",
     "text": [
      "get_json:  {'DeviceID': 21505, 'BeatTime': 41016, 'BeatCount': 31, 'ComputedHeartRate': 83, 'datatype': 0, 'datetime': '2021-08-12 18:37:09', 'ticksTime': 1628793462139526.5, 'PreviousBeat': 40308, 'HwVersion': 1, 'SwVersion': 10, 'ModelNum': 2, 'BatteryLevel': 80, 'BatteryVoltage': 15.99609375, 'BatteryStatus': 'Ok'}\n",
      "Time(ms):  2021-08-12 15:37:09.222079\n"
     ]
    },
    {
     "name": "stderr",
     "output_type": "stream",
     "text": [
      "127.0.0.1 - - [12/Aug/2021 15:37:09] \"\u001b[37mPOST /flask HTTP/1.1\u001b[0m\" 200 -\n"
     ]
    },
    {
     "name": "stdout",
     "output_type": "stream",
     "text": [
      "get_json:  {'DeviceID': 21505, 'BeatTime': 41016, 'BeatCount': 31, 'ComputedHeartRate': 83, 'datatype': 0, 'datetime': '2021-08-12 18:37:09', 'ticksTime': 1628793462629828, 'PreviousBeat': 40308, 'HwVersion': 1, 'SwVersion': 10, 'ModelNum': 2, 'BatteryLevel': 80, 'BatteryVoltage': 15.99609375, 'BatteryStatus': 'Ok'}\n",
      "Time(ms):  2021-08-12 15:37:09.467908\n"
     ]
    },
    {
     "name": "stderr",
     "output_type": "stream",
     "text": [
      "127.0.0.1 - - [12/Aug/2021 15:37:09] \"\u001b[37mPOST /flask HTTP/1.1\u001b[0m\" 200 -\n"
     ]
    },
    {
     "name": "stdout",
     "output_type": "stream",
     "text": [
      "get_json:  {'DeviceID': 21505, 'BeatTime': 41752, 'BeatCount': 32, 'ComputedHeartRate': 83, 'datatype': 0, 'datetime': '2021-08-12 18:37:09', 'ticksTime': 1628793463123124.5, 'PreviousBeat': 41016, 'HwVersion': 1, 'SwVersion': 10, 'ModelNum': 2, 'BatteryLevel': 80, 'BatteryVoltage': 15.99609375, 'BatteryStatus': 'Ok'}\n",
      "Time(ms):  2021-08-12 15:37:09.714015\n"
     ]
    },
    {
     "name": "stderr",
     "output_type": "stream",
     "text": [
      "127.0.0.1 - - [12/Aug/2021 15:37:09] \"\u001b[37mPOST /flask HTTP/1.1\u001b[0m\" 200 -\n"
     ]
    },
    {
     "name": "stdout",
     "output_type": "stream",
     "text": [
      "get_json:  {'DeviceID': 21505, 'BeatTime': 41752, 'BeatCount': 32, 'ComputedHeartRate': 83, 'datatype': 0, 'datetime': '2021-08-12 18:37:09', 'ticksTime': 1628793463615317, 'PreviousBeat': 41016, 'HwVersion': 1, 'SwVersion': 10, 'ModelNum': 2, 'BatteryLevel': 80, 'BatteryVoltage': 15.99609375, 'BatteryStatus': 'Ok'}\n",
      "Time(ms):  2021-08-12 15:37:09.959585\n"
     ]
    },
    {
     "name": "stderr",
     "output_type": "stream",
     "text": [
      "127.0.0.1 - - [12/Aug/2021 15:37:10] \"\u001b[37mPOST /flask HTTP/1.1\u001b[0m\" 200 -\n"
     ]
    },
    {
     "name": "stdout",
     "output_type": "stream",
     "text": [
      "get_json:  {'DeviceID': 21505, 'BeatTime': 41752, 'BeatCount': 32, 'ComputedHeartRate': 83, 'datatype': 0, 'datetime': '2021-08-12 18:37:10', 'ticksTime': 1628793464107619.5, 'PreviousBeat': 41016, 'HwVersion': 1, 'SwVersion': 10, 'ModelNum': 2, 'BatteryLevel': 80, 'BatteryVoltage': 15.99609375, 'BatteryStatus': 'Ok'}\n",
      "Time(ms):  2021-08-12 15:37:10.208873\n"
     ]
    },
    {
     "name": "stderr",
     "output_type": "stream",
     "text": [
      "127.0.0.1 - - [12/Aug/2021 15:37:10] \"\u001b[37mPOST /flask HTTP/1.1\u001b[0m\" 200 -\n"
     ]
    },
    {
     "name": "stdout",
     "output_type": "stream",
     "text": [
      "get_json:  {'DeviceID': 21505, 'BeatTime': 42526, 'BeatCount': 33, 'ComputedHeartRate': 84, 'datatype': 0, 'datetime': '2021-08-12 18:37:10', 'ticksTime': 1628793464599748, 'PreviousBeat': 41752, 'HwVersion': 1, 'SwVersion': 10, 'ModelNum': 2, 'BatteryLevel': 80, 'BatteryVoltage': 15.99609375, 'BatteryStatus': 'Ok'}\n",
      "Time(ms):  2021-08-12 15:37:10.453655\n"
     ]
    },
    {
     "name": "stderr",
     "output_type": "stream",
     "text": [
      "127.0.0.1 - - [12/Aug/2021 15:37:10] \"\u001b[37mPOST /flask HTTP/1.1\u001b[0m\" 200 -\n"
     ]
    },
    {
     "name": "stdout",
     "output_type": "stream",
     "text": [
      "get_json:  {'DeviceID': 21505, 'BeatTime': 42526, 'BeatCount': 33, 'ComputedHeartRate': 84, 'datatype': 0, 'datetime': '2021-08-12 18:37:10', 'ticksTime': 1628793465095904.8, 'PreviousBeat': 41752, 'HwVersion': 1, 'SwVersion': 10, 'ModelNum': 2, 'BatteryLevel': 80, 'BatteryVoltage': 15.99609375, 'BatteryStatus': 'Ok'}\n",
      "Time(ms):  2021-08-12 15:37:10.701861\n"
     ]
    },
    {
     "name": "stderr",
     "output_type": "stream",
     "text": [
      "127.0.0.1 - - [12/Aug/2021 15:37:10] \"\u001b[37mPOST /flask HTTP/1.1\u001b[0m\" 200 -\n"
     ]
    },
    {
     "name": "stdout",
     "output_type": "stream",
     "text": [
      "get_json:  {'DeviceID': 21505, 'BeatTime': 42526, 'BeatCount': 33, 'ComputedHeartRate': 84, 'datatype': 0, 'datetime': '2021-08-12 18:37:10', 'ticksTime': 1628793465585603.2, 'PreviousBeat': 41752, 'HwVersion': 1, 'SwVersion': 10, 'ModelNum': 2, 'BatteryLevel': 80, 'BatteryVoltage': 15.99609375, 'BatteryStatus': 'Ok'}\n",
      "Time(ms):  2021-08-12 15:37:10.945535\n"
     ]
    },
    {
     "name": "stderr",
     "output_type": "stream",
     "text": [
      "127.0.0.1 - - [12/Aug/2021 15:37:11] \"\u001b[37mPOST /flask HTTP/1.1\u001b[0m\" 200 -\n"
     ]
    },
    {
     "name": "stdout",
     "output_type": "stream",
     "text": [
      "get_json:  {'DeviceID': 21505, 'BeatTime': 43279, 'BeatCount': 34, 'ComputedHeartRate': 83, 'datatype': 0, 'datetime': '2021-08-12 18:37:11', 'ticksTime': 1628793466077647.8, 'PreviousBeat': 42526, 'HwVersion': 1, 'SwVersion': 10, 'ModelNum': 2, 'BatteryLevel': 80, 'BatteryVoltage': 15.99609375, 'BatteryStatus': 'Ok'}\n",
      "Time(ms):  2021-08-12 15:37:11.191000\n"
     ]
    },
    {
     "name": "stderr",
     "output_type": "stream",
     "text": [
      "127.0.0.1 - - [12/Aug/2021 15:37:11] \"\u001b[37mPOST /flask HTTP/1.1\u001b[0m\" 200 -\n"
     ]
    },
    {
     "name": "stdout",
     "output_type": "stream",
     "text": [
      "get_json:  {'DeviceID': 21505, 'BeatTime': 43279, 'BeatCount': 34, 'ComputedHeartRate': 83, 'datatype': 0, 'datetime': '2021-08-12 18:37:11', 'ticksTime': 1628793466569898, 'PreviousBeat': 42526, 'HwVersion': 1, 'SwVersion': 10, 'ModelNum': 2, 'BatteryLevel': 80, 'BatteryVoltage': 15.99609375, 'BatteryStatus': 'Ok'}\n",
      "Time(ms):  2021-08-12 15:37:11.438329\n"
     ]
    },
    {
     "name": "stderr",
     "output_type": "stream",
     "text": [
      "127.0.0.1 - - [12/Aug/2021 15:37:11] \"\u001b[37mPOST /flask HTTP/1.1\u001b[0m\" 200 -\n"
     ]
    },
    {
     "name": "stdout",
     "output_type": "stream",
     "text": [
      "get_json:  {'DeviceID': 21505, 'BeatTime': 43279, 'BeatCount': 34, 'ComputedHeartRate': 83, 'datatype': 0, 'datetime': '2021-08-12 18:37:11', 'ticksTime': 1628793467062017, 'PreviousBeat': 42526, 'HwVersion': 1, 'SwVersion': 10, 'ModelNum': 2, 'BatteryLevel': 80, 'BatteryVoltage': 15.99609375, 'BatteryStatus': 'Ok'}\n",
      "Time(ms):  2021-08-12 15:37:11.683360\n"
     ]
    },
    {
     "name": "stderr",
     "output_type": "stream",
     "text": [
      "127.0.0.1 - - [12/Aug/2021 15:37:11] \"\u001b[37mPOST /flask HTTP/1.1\u001b[0m\" 200 -\n"
     ]
    },
    {
     "name": "stdout",
     "output_type": "stream",
     "text": [
      "get_json:  {'DeviceID': 21505, 'BeatTime': 44039, 'BeatCount': 35, 'ComputedHeartRate': 83, 'datatype': 0, 'datetime': '2021-08-12 18:37:11', 'ticksTime': 1628793467555520.5, 'PreviousBeat': 43279, 'HwVersion': 1, 'SwVersion': 10, 'ModelNum': 2, 'BatteryLevel': 80, 'BatteryVoltage': 15.99609375, 'BatteryStatus': 'Ok'}\n",
      "Time(ms):  2021-08-12 15:37:11.930547\n"
     ]
    },
    {
     "name": "stderr",
     "output_type": "stream",
     "text": [
      "127.0.0.1 - - [12/Aug/2021 15:37:12] \"\u001b[37mPOST /flask HTTP/1.1\u001b[0m\" 200 -\n"
     ]
    },
    {
     "name": "stdout",
     "output_type": "stream",
     "text": [
      "get_json:  {'DeviceID': 21505, 'BeatTime': 44039, 'BeatCount': 35, 'ComputedHeartRate': 83, 'datatype': 0, 'datetime': '2021-08-12 18:37:12', 'ticksTime': 1628793468047736.2, 'PreviousBeat': 43279, 'HwVersion': 1, 'SwVersion': 10, 'ModelNum': 2, 'BatteryLevel': 80, 'BatteryVoltage': 15.99609375, 'BatteryStatus': 'Ok'}\n",
      "Time(ms):  2021-08-12 15:37:12.176063\n"
     ]
    },
    {
     "name": "stderr",
     "output_type": "stream",
     "text": [
      "127.0.0.1 - - [12/Aug/2021 15:37:12] \"\u001b[37mPOST /flask HTTP/1.1\u001b[0m\" 200 -\n"
     ]
    },
    {
     "name": "stdout",
     "output_type": "stream",
     "text": [
      "get_json:  {'DeviceID': 21505, 'BeatTime': 44039, 'BeatCount': 35, 'ComputedHeartRate': 83, 'datatype': 0, 'datetime': '2021-08-12 18:37:12', 'ticksTime': 1628793468541044.2, 'PreviousBeat': 43279, 'HwVersion': 1, 'SwVersion': 10, 'ModelNum': 2, 'BatteryLevel': 80, 'BatteryVoltage': 15.99609375, 'BatteryStatus': 'Ok'}\n",
      "Time(ms):  2021-08-12 15:37:12.424005\n"
     ]
    },
    {
     "name": "stderr",
     "output_type": "stream",
     "text": [
      "127.0.0.1 - - [12/Aug/2021 15:37:12] \"\u001b[37mPOST /flask HTTP/1.1\u001b[0m\" 200 -\n"
     ]
    },
    {
     "name": "stdout",
     "output_type": "stream",
     "text": [
      "get_json:  {'DeviceID': 21505, 'BeatTime': 44809, 'BeatCount': 36, 'ComputedHeartRate': 83, 'datatype': 0, 'datetime': '2021-08-12 18:37:12', 'ticksTime': 1628793469033155.2, 'PreviousBeat': 44039, 'HwVersion': 1, 'SwVersion': 10, 'ModelNum': 2, 'BatteryLevel': 80, 'BatteryVoltage': 15.99609375, 'BatteryStatus': 'Ok'}\n",
      "Time(ms):  2021-08-12 15:37:12.670055\n"
     ]
    },
    {
     "name": "stderr",
     "output_type": "stream",
     "text": [
      "127.0.0.1 - - [12/Aug/2021 15:37:12] \"\u001b[37mPOST /flask HTTP/1.1\u001b[0m\" 200 -\n"
     ]
    },
    {
     "name": "stdout",
     "output_type": "stream",
     "text": [
      "get_json:  {'DeviceID': 21505, 'BeatTime': 44809, 'BeatCount': 36, 'ComputedHeartRate': 83, 'datatype': 0, 'datetime': '2021-08-12 18:37:12', 'ticksTime': 1628793469525568, 'PreviousBeat': 44039, 'HwVersion': 1, 'SwVersion': 10, 'ModelNum': 2, 'BatteryLevel': 80, 'BatteryVoltage': 15.99609375, 'BatteryStatus': 'Ok'}\n",
      "Time(ms):  2021-08-12 15:37:12.915663\n"
     ]
    },
    {
     "name": "stderr",
     "output_type": "stream",
     "text": [
      "127.0.0.1 - - [12/Aug/2021 15:37:13] \"\u001b[37mPOST /flask HTTP/1.1\u001b[0m\" 200 -\n"
     ]
    },
    {
     "name": "stdout",
     "output_type": "stream",
     "text": [
      "get_json:  {'DeviceID': 21505, 'BeatTime': 44809, 'BeatCount': 36, 'ComputedHeartRate': 83, 'datatype': 0, 'datetime': '2021-08-12 18:37:13', 'ticksTime': 1628793470017594.2, 'PreviousBeat': 44039, 'HwVersion': 1, 'SwVersion': 10, 'ModelNum': 2, 'BatteryLevel': 80, 'BatteryVoltage': 15.99609375, 'BatteryStatus': 'Ok'}\n",
      "Time(ms):  2021-08-12 15:37:13.160510\n"
     ]
    },
    {
     "name": "stderr",
     "output_type": "stream",
     "text": [
      "127.0.0.1 - - [12/Aug/2021 15:37:13] \"\u001b[37mPOST /flask HTTP/1.1\u001b[0m\" 200 -\n"
     ]
    },
    {
     "name": "stdout",
     "output_type": "stream",
     "text": [
      "get_json:  {'DeviceID': 21505, 'BeatTime': 45544, 'BeatCount': 37, 'ComputedHeartRate': 83, 'datatype': 0, 'datetime': '2021-08-12 18:37:13', 'ticksTime': 1628793470511212.2, 'PreviousBeat': 44809, 'HwVersion': 1, 'SwVersion': 10, 'ModelNum': 2, 'BatteryLevel': 80, 'BatteryVoltage': 15.99609375, 'BatteryStatus': 'Ok'}\n",
      "Time(ms):  2021-08-12 15:37:13.409609\n"
     ]
    },
    {
     "name": "stderr",
     "output_type": "stream",
     "text": [
      "127.0.0.1 - - [12/Aug/2021 15:37:13] \"\u001b[37mPOST /flask HTTP/1.1\u001b[0m\" 200 -\n"
     ]
    },
    {
     "name": "stdout",
     "output_type": "stream",
     "text": [
      "get_json:  {'DeviceID': 21505, 'BeatTime': 45544, 'BeatCount': 37, 'ComputedHeartRate': 83, 'datatype': 0, 'datetime': '2021-08-12 18:37:13', 'ticksTime': 1628793471003466, 'PreviousBeat': 44809, 'HwVersion': 1, 'SwVersion': 10, 'ModelNum': 2, 'BatteryLevel': 80, 'BatteryVoltage': 15.99609375, 'BatteryStatus': 'Ok'}\n",
      "Time(ms):  2021-08-12 15:37:13.655016\n"
     ]
    },
    {
     "name": "stderr",
     "output_type": "stream",
     "text": [
      "127.0.0.1 - - [12/Aug/2021 15:37:13] \"\u001b[37mPOST /flask HTTP/1.1\u001b[0m\" 200 -\n"
     ]
    },
    {
     "name": "stdout",
     "output_type": "stream",
     "text": [
      "get_json:  {'DeviceID': 21505, 'BeatTime': 46266, 'BeatCount': 38, 'ComputedHeartRate': 82, 'datatype': 0, 'datetime': '2021-08-12 18:37:13', 'ticksTime': 1628793471495647.8, 'PreviousBeat': 45544, 'HwVersion': 1, 'SwVersion': 10, 'ModelNum': 2, 'BatteryLevel': 80, 'BatteryVoltage': 15.99609375, 'BatteryStatus': 'Ok'}\n",
      "Time(ms):  2021-08-12 15:37:13.900448\n"
     ]
    },
    {
     "name": "stderr",
     "output_type": "stream",
     "text": [
      "127.0.0.1 - - [12/Aug/2021 15:37:14] \"\u001b[37mPOST /flask HTTP/1.1\u001b[0m\" 200 -\n"
     ]
    },
    {
     "name": "stdout",
     "output_type": "stream",
     "text": [
      "get_json:  {'DeviceID': 21505, 'BeatTime': 46266, 'BeatCount': 38, 'ComputedHeartRate': 82, 'datatype': 0, 'datetime': '2021-08-12 18:37:14', 'ticksTime': 1628793471987757, 'PreviousBeat': 45544, 'HwVersion': 1, 'SwVersion': 10, 'ModelNum': 2, 'BatteryLevel': 80, 'BatteryVoltage': 15.99609375, 'BatteryStatus': 'Ok'}\n",
      "Time(ms):  2021-08-12 15:37:14.153902\n"
     ]
    },
    {
     "name": "stderr",
     "output_type": "stream",
     "text": [
      "127.0.0.1 - - [12/Aug/2021 15:37:14] \"\u001b[37mPOST /flask HTTP/1.1\u001b[0m\" 200 -\n"
     ]
    },
    {
     "name": "stdout",
     "output_type": "stream",
     "text": [
      "get_json:  {'DeviceID': 21505, 'BeatTime': 46266, 'BeatCount': 38, 'ComputedHeartRate': 82, 'datatype': 0, 'datetime': '2021-08-12 18:37:14', 'ticksTime': 1628793472480943.5, 'PreviousBeat': 45544, 'HwVersion': 1, 'SwVersion': 10, 'ModelNum': 2, 'BatteryLevel': 80, 'BatteryVoltage': 15.99609375, 'BatteryStatus': 'Ok'}\n",
      "Time(ms):  2021-08-12 15:37:14.392214\n"
     ]
    },
    {
     "name": "stderr",
     "output_type": "stream",
     "text": [
      "127.0.0.1 - - [12/Aug/2021 15:37:14] \"\u001b[37mPOST /flask HTTP/1.1\u001b[0m\" 200 -\n"
     ]
    },
    {
     "name": "stdout",
     "output_type": "stream",
     "text": [
      "get_json:  {'DeviceID': 21505, 'BeatTime': 46990, 'BeatCount': 39, 'ComputedHeartRate': 83, 'datatype': 0, 'datetime': '2021-08-12 18:37:14', 'ticksTime': 1628793472973328.8, 'PreviousBeat': 46266, 'HwVersion': 1, 'SwVersion': 10, 'ModelNum': 2, 'BatteryLevel': 80, 'BatteryVoltage': 15.99609375, 'BatteryStatus': 'Ok'}\n",
      "Time(ms):  2021-08-12 15:37:14.640176\n"
     ]
    },
    {
     "name": "stderr",
     "output_type": "stream",
     "text": [
      "127.0.0.1 - - [12/Aug/2021 15:37:14] \"\u001b[37mPOST /flask HTTP/1.1\u001b[0m\" 200 -\n"
     ]
    },
    {
     "name": "stdout",
     "output_type": "stream",
     "text": [
      "get_json:  {'DeviceID': 21505, 'BeatTime': 46990, 'BeatCount': 39, 'ComputedHeartRate': 83, 'datatype': 0, 'datetime': '2021-08-12 18:37:14', 'ticksTime': 1628793473467133.5, 'PreviousBeat': 46266, 'HwVersion': 1, 'SwVersion': 10, 'ModelNum': 2, 'BatteryLevel': 80, 'BatteryVoltage': 15.99609375, 'BatteryStatus': 'Ok'}\n",
      "Time(ms):  2021-08-12 15:37:14.886107\n"
     ]
    },
    {
     "name": "stderr",
     "output_type": "stream",
     "text": [
      "127.0.0.1 - - [12/Aug/2021 15:37:15] \"\u001b[37mPOST /flask HTTP/1.1\u001b[0m\" 200 -\n"
     ]
    },
    {
     "name": "stdout",
     "output_type": "stream",
     "text": [
      "get_json:  {'DeviceID': 21505, 'BeatTime': 46990, 'BeatCount': 39, 'ComputedHeartRate': 83, 'datatype': 0, 'datetime': '2021-08-12 18:37:15', 'ticksTime': 1628793473957854.5, 'PreviousBeat': 46266, 'HwVersion': 1, 'SwVersion': 10, 'ModelNum': 2, 'BatteryLevel': 80, 'BatteryVoltage': 15.99609375, 'BatteryStatus': 'Ok'}\n",
      "Time(ms):  2021-08-12 15:37:15.132076\n"
     ]
    },
    {
     "name": "stderr",
     "output_type": "stream",
     "text": [
      "127.0.0.1 - - [12/Aug/2021 15:37:15] \"\u001b[37mPOST /flask HTTP/1.1\u001b[0m\" 200 -\n"
     ]
    },
    {
     "name": "stdout",
     "output_type": "stream",
     "text": [
      "get_json:  {'DeviceID': 21505, 'BeatTime': 47710, 'BeatCount': 40, 'ComputedHeartRate': 83, 'datatype': 0, 'datetime': '2021-08-12 18:37:15', 'ticksTime': 1628793474451024, 'PreviousBeat': 46990, 'HwVersion': 1, 'SwVersion': 10, 'ModelNum': 2, 'BatteryLevel': 80, 'BatteryVoltage': 15.99609375, 'BatteryStatus': 'Ok'}\n",
      "Time(ms):  2021-08-12 15:37:15.377269\n"
     ]
    },
    {
     "name": "stderr",
     "output_type": "stream",
     "text": [
      "127.0.0.1 - - [12/Aug/2021 15:37:15] \"\u001b[37mPOST /flask HTTP/1.1\u001b[0m\" 200 -\n"
     ]
    },
    {
     "name": "stdout",
     "output_type": "stream",
     "text": [
      "get_json:  {'DeviceID': 21505, 'BeatTime': 47710, 'BeatCount': 40, 'ComputedHeartRate': 83, 'datatype': 0, 'datetime': '2021-08-12 18:37:15', 'ticksTime': 1628793474943302.5, 'PreviousBeat': 46990, 'HwVersion': 1, 'SwVersion': 10, 'ModelNum': 2, 'BatteryLevel': 80, 'BatteryVoltage': 15.99609375, 'BatteryStatus': 'Ok'}\n",
      "Time(ms):  2021-08-12 15:37:15.625752\n"
     ]
    },
    {
     "name": "stderr",
     "output_type": "stream",
     "text": [
      "127.0.0.1 - - [12/Aug/2021 15:37:15] \"\u001b[37mPOST /flask HTTP/1.1\u001b[0m\" 200 -\n"
     ]
    },
    {
     "name": "stdout",
     "output_type": "stream",
     "text": [
      "get_json:  {'DeviceID': 21505, 'BeatTime': 47710, 'BeatCount': 40, 'ComputedHeartRate': 83, 'datatype': 0, 'datetime': '2021-08-12 18:37:15', 'ticksTime': 1628793475435649, 'PreviousBeat': 46990, 'HwVersion': 1, 'SwVersion': 10, 'ModelNum': 2, 'BatteryLevel': 80, 'BatteryVoltage': 15.99609375, 'BatteryStatus': 'Ok'}\n",
      "Time(ms):  2021-08-12 15:37:15.872625\n"
     ]
    },
    {
     "name": "stderr",
     "output_type": "stream",
     "text": [
      "127.0.0.1 - - [12/Aug/2021 15:37:16] \"\u001b[37mPOST /flask HTTP/1.1\u001b[0m\" 200 -\n"
     ]
    },
    {
     "name": "stdout",
     "output_type": "stream",
     "text": [
      "get_json:  {'DeviceID': 21505, 'BeatTime': 48407, 'BeatCount': 41, 'ComputedHeartRate': 83, 'datatype': 0, 'datetime': '2021-08-12 18:37:16', 'ticksTime': 1628793475928953.5, 'PreviousBeat': 47710, 'HwVersion': 1, 'SwVersion': 10, 'ModelNum': 2, 'BatteryLevel': 80, 'BatteryVoltage': 15.99609375, 'BatteryStatus': 'Ok'}\n",
      "Time(ms):  2021-08-12 15:37:16.117114\n"
     ]
    },
    {
     "name": "stderr",
     "output_type": "stream",
     "text": [
      "127.0.0.1 - - [12/Aug/2021 15:37:16] \"\u001b[37mPOST /flask HTTP/1.1\u001b[0m\" 200 -\n"
     ]
    },
    {
     "name": "stdout",
     "output_type": "stream",
     "text": [
      "get_json:  {'DeviceID': 21505, 'BeatTime': 48407, 'BeatCount': 41, 'ComputedHeartRate': 83, 'datatype': 0, 'datetime': '2021-08-12 18:37:16', 'ticksTime': 1628793476421419.5, 'PreviousBeat': 47710, 'HwVersion': 1, 'SwVersion': 10, 'ModelNum': 2, 'BatteryLevel': 80, 'BatteryVoltage': 15.99609375, 'BatteryStatus': 'Ok'}\n",
      "Time(ms):  2021-08-12 15:37:16.363784\n"
     ]
    },
    {
     "name": "stderr",
     "output_type": "stream",
     "text": [
      "127.0.0.1 - - [12/Aug/2021 15:37:16] \"\u001b[37mPOST /flask HTTP/1.1\u001b[0m\" 200 -\n"
     ]
    },
    {
     "name": "stdout",
     "output_type": "stream",
     "text": [
      "get_json:  {'DeviceID': 21505, 'BeatTime': 48407, 'BeatCount': 41, 'ComputedHeartRate': 83, 'datatype': 0, 'datetime': '2021-08-12 18:37:16', 'ticksTime': 1628793476913446.2, 'PreviousBeat': 47710, 'HwVersion': 1, 'SwVersion': 10, 'ModelNum': 2, 'BatteryLevel': 80, 'BatteryVoltage': 15.99609375, 'BatteryStatus': 'Ok'}\n",
      "Time(ms):  2021-08-12 15:37:16.608640\n"
     ]
    },
    {
     "name": "stderr",
     "output_type": "stream",
     "text": [
      "127.0.0.1 - - [12/Aug/2021 15:37:16] \"\u001b[37mPOST /flask HTTP/1.1\u001b[0m\" 200 -\n"
     ]
    },
    {
     "name": "stdout",
     "output_type": "stream",
     "text": [
      "get_json:  {'DeviceID': 21505, 'BeatTime': 49110, 'BeatCount': 42, 'ComputedHeartRate': 84, 'datatype': 0, 'datetime': '2021-08-12 18:37:16', 'ticksTime': 1628793477406937, 'PreviousBeat': 48407, 'HwVersion': 1, 'SwVersion': 10, 'ModelNum': 2, 'BatteryLevel': 80, 'BatteryVoltage': 15.99609375, 'BatteryStatus': 'Ok'}\n",
      "Time(ms):  2021-08-12 15:37:16.856546\n"
     ]
    },
    {
     "name": "stderr",
     "output_type": "stream",
     "text": [
      "127.0.0.1 - - [12/Aug/2021 15:37:17] \"\u001b[37mPOST /flask HTTP/1.1\u001b[0m\" 200 -\n"
     ]
    },
    {
     "name": "stdout",
     "output_type": "stream",
     "text": [
      "get_json:  {'DeviceID': 21505, 'BeatTime': 49110, 'BeatCount': 42, 'ComputedHeartRate': 84, 'datatype': 0, 'datetime': '2021-08-12 18:37:17', 'ticksTime': 1628793477899081.5, 'PreviousBeat': 48407, 'HwVersion': 1, 'SwVersion': 10, 'ModelNum': 2, 'BatteryLevel': 80, 'BatteryVoltage': 15.99609375, 'BatteryStatus': 'Ok'}\n",
      "Time(ms):  2021-08-12 15:37:17.102271\n"
     ]
    },
    {
     "name": "stderr",
     "output_type": "stream",
     "text": [
      "127.0.0.1 - - [12/Aug/2021 15:37:17] \"\u001b[37mPOST /flask HTTP/1.1\u001b[0m\" 200 -\n"
     ]
    },
    {
     "name": "stdout",
     "output_type": "stream",
     "text": [
      "get_json:  {'DeviceID': 21505, 'BeatTime': 49833, 'BeatCount': 43, 'ComputedHeartRate': 84, 'datatype': 0, 'datetime': '2021-08-12 18:37:17', 'ticksTime': 1628793478391295.8, 'PreviousBeat': 49110, 'HwVersion': 1, 'SwVersion': 10, 'ModelNum': 2, 'BatteryLevel': 80, 'BatteryVoltage': 15.99609375, 'BatteryStatus': 'Ok'}\n",
      "Time(ms):  2021-08-12 15:37:17.349343\n"
     ]
    },
    {
     "name": "stderr",
     "output_type": "stream",
     "text": [
      "127.0.0.1 - - [12/Aug/2021 15:37:17] \"\u001b[37mPOST /flask HTTP/1.1\u001b[0m\" 200 -\n"
     ]
    },
    {
     "name": "stdout",
     "output_type": "stream",
     "text": [
      "get_json:  {'DeviceID': 21505, 'BeatTime': 49833, 'BeatCount': 43, 'ComputedHeartRate': 84, 'datatype': 0, 'datetime': '2021-08-12 18:37:17', 'ticksTime': 1628793479375653.2, 'PreviousBeat': 49110, 'HwVersion': 1, 'SwVersion': 10, 'ModelNum': 2, 'BatteryLevel': 80, 'BatteryVoltage': 15.99609375, 'BatteryStatus': 'Ok'}\n",
      "Time(ms):  2021-08-12 15:37:17.840577\n"
     ]
    },
    {
     "name": "stderr",
     "output_type": "stream",
     "text": [
      "127.0.0.1 - - [12/Aug/2021 15:37:18] \"\u001b[37mPOST /flask HTTP/1.1\u001b[0m\" 200 -\n"
     ]
    },
    {
     "name": "stdout",
     "output_type": "stream",
     "text": [
      "get_json:  {'DeviceID': 21505, 'BeatTime': 50541, 'BeatCount': 44, 'ComputedHeartRate': 84, 'datatype': 0, 'datetime': '2021-08-12 18:37:18', 'ticksTime': 1628793479868908.8, 'PreviousBeat': 49833, 'HwVersion': 1, 'SwVersion': 10, 'ModelNum': 2, 'BatteryLevel': 80, 'BatteryVoltage': 15.99609375, 'BatteryStatus': 'Ok'}\n",
      "Time(ms):  2021-08-12 15:37:18.086089\n"
     ]
    },
    {
     "name": "stderr",
     "output_type": "stream",
     "text": [
      "127.0.0.1 - - [12/Aug/2021 15:37:18] \"\u001b[37mPOST /flask HTTP/1.1\u001b[0m\" 200 -\n"
     ]
    },
    {
     "name": "stdout",
     "output_type": "stream",
     "text": [
      "get_json:  {'DeviceID': 21505, 'BeatTime': 50541, 'BeatCount': 44, 'ComputedHeartRate': 84, 'datatype': 0, 'datetime': '2021-08-12 18:37:18', 'ticksTime': 1628793480361411, 'PreviousBeat': 49833, 'HwVersion': 1, 'SwVersion': 10, 'ModelNum': 2, 'BatteryLevel': 80, 'BatteryVoltage': 15.99609375, 'BatteryStatus': 'Ok'}\n",
      "Time(ms):  2021-08-12 15:37:18.333502\n"
     ]
    },
    {
     "name": "stderr",
     "output_type": "stream",
     "text": [
      "127.0.0.1 - - [12/Aug/2021 15:37:18] \"\u001b[37mPOST /flask HTTP/1.1\u001b[0m\" 200 -\n"
     ]
    },
    {
     "name": "stdout",
     "output_type": "stream",
     "text": [
      "get_json:  {'DeviceID': 21505, 'BeatTime': 50541, 'BeatCount': 44, 'ComputedHeartRate': 84, 'datatype': 0, 'datetime': '2021-08-12 18:37:18', 'ticksTime': 1628793480853741.5, 'PreviousBeat': 49833, 'HwVersion': 1, 'SwVersion': 10, 'ModelNum': 2, 'BatteryLevel': 80, 'BatteryVoltage': 15.99609375, 'BatteryStatus': 'Ok'}\n",
      "Time(ms):  2021-08-12 15:37:18.579959\n"
     ]
    },
    {
     "name": "stderr",
     "output_type": "stream",
     "text": [
      "127.0.0.1 - - [12/Aug/2021 15:37:18] \"\u001b[37mPOST /flask HTTP/1.1\u001b[0m\" 200 -\n"
     ]
    },
    {
     "name": "stdout",
     "output_type": "stream",
     "text": [
      "get_json:  {'DeviceID': 21505, 'BeatTime': 51240, 'BeatCount': 45, 'ComputedHeartRate': 85, 'datatype': 0, 'datetime': '2021-08-12 18:37:18', 'ticksTime': 1628793481347318.8, 'PreviousBeat': 50541, 'HwVersion': 1, 'SwVersion': 10, 'ModelNum': 2, 'BatteryLevel': 80, 'BatteryVoltage': 15.99609375, 'BatteryStatus': 'Ok'}\n",
      "Time(ms):  2021-08-12 15:37:18.825861\n"
     ]
    },
    {
     "name": "stderr",
     "output_type": "stream",
     "text": [
      "127.0.0.1 - - [12/Aug/2021 15:37:19] \"\u001b[37mPOST /flask HTTP/1.1\u001b[0m\" 200 -\n"
     ]
    },
    {
     "name": "stdout",
     "output_type": "stream",
     "text": [
      "get_json:  {'DeviceID': 21505, 'BeatTime': 51240, 'BeatCount': 45, 'ComputedHeartRate': 85, 'datatype': 0, 'datetime': '2021-08-12 18:37:19', 'ticksTime': 1628793481839145.8, 'PreviousBeat': 50541, 'HwVersion': 1, 'SwVersion': 10, 'ModelNum': 2, 'BatteryLevel': 80, 'BatteryVoltage': 15.99609375, 'BatteryStatus': 'Ok'}\n",
      "Time(ms):  2021-08-12 15:37:19.072044\n"
     ]
    },
    {
     "name": "stderr",
     "output_type": "stream",
     "text": [
      "127.0.0.1 - - [12/Aug/2021 15:37:19] \"\u001b[37mPOST /flask HTTP/1.1\u001b[0m\" 200 -\n"
     ]
    },
    {
     "name": "stdout",
     "output_type": "stream",
     "text": [
      "get_json:  {'DeviceID': 21505, 'BeatTime': 51240, 'BeatCount': 45, 'ComputedHeartRate': 85, 'datatype': 0, 'datetime': '2021-08-12 18:37:19', 'ticksTime': 1628793482331336.5, 'PreviousBeat': 50541, 'HwVersion': 1, 'SwVersion': 10, 'ModelNum': 2, 'BatteryLevel': 80, 'BatteryVoltage': 15.99609375, 'BatteryStatus': 'Ok'}\n",
      "Time(ms):  2021-08-12 15:37:19.318205\n"
     ]
    },
    {
     "name": "stderr",
     "output_type": "stream",
     "text": [
      "127.0.0.1 - - [12/Aug/2021 15:37:19] \"\u001b[37mPOST /flask HTTP/1.1\u001b[0m\" 200 -\n"
     ]
    },
    {
     "name": "stdout",
     "output_type": "stream",
     "text": [
      "get_json:  {'DeviceID': 21505, 'BeatTime': 51959, 'BeatCount': 46, 'ComputedHeartRate': 85, 'datatype': 0, 'datetime': '2021-08-12 18:37:19', 'ticksTime': 1628793482824988.2, 'PreviousBeat': 51240, 'HwVersion': 1, 'SwVersion': 10, 'ModelNum': 2, 'BatteryLevel': 80, 'BatteryVoltage': 15.99609375, 'BatteryStatus': 'Ok'}\n",
      "Time(ms):  2021-08-12 15:37:19.567613\n"
     ]
    },
    {
     "name": "stderr",
     "output_type": "stream",
     "text": [
      "127.0.0.1 - - [12/Aug/2021 15:37:19] \"\u001b[37mPOST /flask HTTP/1.1\u001b[0m\" 200 -\n"
     ]
    },
    {
     "name": "stdout",
     "output_type": "stream",
     "text": [
      "get_json:  {'DeviceID': 21505, 'BeatTime': 51959, 'BeatCount': 46, 'ComputedHeartRate': 85, 'datatype': 0, 'datetime': '2021-08-12 18:37:19', 'ticksTime': 1628793483333281.2, 'PreviousBeat': 51240, 'HwVersion': 1, 'SwVersion': 10, 'ModelNum': 2, 'BatteryLevel': 80, 'BatteryVoltage': 15.99609375, 'BatteryStatus': 'Ok'}\n",
      "Time(ms):  2021-08-12 15:37:19.818893\n"
     ]
    },
    {
     "name": "stderr",
     "output_type": "stream",
     "text": [
      "127.0.0.1 - - [12/Aug/2021 15:37:20] \"\u001b[37mPOST /flask HTTP/1.1\u001b[0m\" 200 -\n"
     ]
    },
    {
     "name": "stdout",
     "output_type": "stream",
     "text": [
      "get_json:  {'DeviceID': 21505, 'BeatTime': 52674, 'BeatCount': 47, 'ComputedHeartRate': 85, 'datatype': 0, 'datetime': '2021-08-12 18:37:20', 'ticksTime': 1628793483809543, 'PreviousBeat': 51959, 'HwVersion': 1, 'SwVersion': 10, 'ModelNum': 2, 'BatteryLevel': 80, 'BatteryVoltage': 15.99609375, 'BatteryStatus': 'Ok'}\n",
      "Time(ms):  2021-08-12 15:37:20.062898\n"
     ]
    },
    {
     "name": "stderr",
     "output_type": "stream",
     "text": [
      "127.0.0.1 - - [12/Aug/2021 15:37:20] \"\u001b[37mPOST /flask HTTP/1.1\u001b[0m\" 200 -\n"
     ]
    },
    {
     "name": "stdout",
     "output_type": "stream",
     "text": [
      "get_json:  {'DeviceID': 21505, 'BeatTime': 52674, 'BeatCount': 47, 'ComputedHeartRate': 85, 'datatype': 0, 'datetime': '2021-08-12 18:37:20', 'ticksTime': 1628793484301470.5, 'PreviousBeat': 51959, 'HwVersion': 1, 'SwVersion': 10, 'ModelNum': 2, 'BatteryLevel': 80, 'BatteryVoltage': 15.99609375, 'BatteryStatus': 'Ok'}\n",
      "Time(ms):  2021-08-12 15:37:20.303051\n"
     ]
    },
    {
     "name": "stderr",
     "output_type": "stream",
     "text": [
      "127.0.0.1 - - [12/Aug/2021 15:37:20] \"\u001b[37mPOST /flask HTTP/1.1\u001b[0m\" 200 -\n"
     ]
    },
    {
     "name": "stdout",
     "output_type": "stream",
     "text": [
      "get_json:  {'DeviceID': 21505, 'BeatTime': 52674, 'BeatCount': 47, 'ComputedHeartRate': 85, 'datatype': 0, 'datetime': '2021-08-12 18:37:20', 'ticksTime': 1628793484793548.8, 'PreviousBeat': 51959, 'HwVersion': 1, 'SwVersion': 10, 'ModelNum': 2, 'BatteryLevel': 80, 'BatteryVoltage': 15.99609375, 'BatteryStatus': 'Ok'}\n",
      "Time(ms):  2021-08-12 15:37:20.549985\n"
     ]
    },
    {
     "name": "stderr",
     "output_type": "stream",
     "text": [
      "127.0.0.1 - - [12/Aug/2021 15:37:20] \"\u001b[37mPOST /flask HTTP/1.1\u001b[0m\" 200 -\n"
     ]
    },
    {
     "name": "stdout",
     "output_type": "stream",
     "text": [
      "get_json:  {'DeviceID': 21505, 'BeatTime': 53342, 'BeatCount': 48, 'ComputedHeartRate': 85, 'datatype': 0, 'datetime': '2021-08-12 18:37:20', 'ticksTime': 1628793485287270.8, 'PreviousBeat': 52674, 'HwVersion': 1, 'SwVersion': 10, 'ModelNum': 2, 'BatteryLevel': 80, 'BatteryVoltage': 15.99609375, 'BatteryStatus': 'Ok'}\n",
      "Time(ms):  2021-08-12 15:37:20.796716\n"
     ]
    },
    {
     "name": "stderr",
     "output_type": "stream",
     "text": [
      "127.0.0.1 - - [12/Aug/2021 15:37:21] \"\u001b[37mPOST /flask HTTP/1.1\u001b[0m\" 200 -\n"
     ]
    },
    {
     "name": "stdout",
     "output_type": "stream",
     "text": [
      "get_json:  {'DeviceID': 21505, 'BeatTime': 53342, 'BeatCount': 48, 'ComputedHeartRate': 85, 'datatype': 0, 'datetime': '2021-08-12 18:37:21', 'ticksTime': 1628793485779106.2, 'PreviousBeat': 52674, 'HwVersion': 1, 'SwVersion': 10, 'ModelNum': 2, 'BatteryLevel': 80, 'BatteryVoltage': 15.99609375, 'BatteryStatus': 'Ok'}\n",
      "Time(ms):  2021-08-12 15:37:21.041828\n"
     ]
    },
    {
     "name": "stderr",
     "output_type": "stream",
     "text": [
      "127.0.0.1 - - [12/Aug/2021 15:37:21] \"\u001b[37mPOST /flask HTTP/1.1\u001b[0m\" 200 -\n"
     ]
    },
    {
     "name": "stdout",
     "output_type": "stream",
     "text": [
      "get_json:  {'DeviceID': 21505, 'BeatTime': 54005, 'BeatCount': 49, 'ComputedHeartRate': 86, 'datatype': 0, 'datetime': '2021-08-12 18:37:21', 'ticksTime': 1628793486271705.5, 'PreviousBeat': 53342, 'HwVersion': 1, 'SwVersion': 10, 'ModelNum': 2, 'BatteryLevel': 80, 'BatteryVoltage': 15.99609375, 'BatteryStatus': 'Ok'}\n",
      "Time(ms):  2021-08-12 15:37:21.289370\n"
     ]
    },
    {
     "name": "stderr",
     "output_type": "stream",
     "text": [
      "127.0.0.1 - - [12/Aug/2021 15:37:21] \"\u001b[37mPOST /flask HTTP/1.1\u001b[0m\" 200 -\n"
     ]
    },
    {
     "name": "stdout",
     "output_type": "stream",
     "text": [
      "get_json:  {'DeviceID': 21505, 'BeatTime': 54005, 'BeatCount': 49, 'ComputedHeartRate': 86, 'datatype': 0, 'datetime': '2021-08-12 18:37:21', 'ticksTime': 1628793486764793, 'PreviousBeat': 53342, 'HwVersion': 1, 'SwVersion': 10, 'ModelNum': 2, 'BatteryLevel': 80, 'BatteryVoltage': 15.99609375, 'BatteryStatus': 'Ok'}\n",
      "Time(ms):  2021-08-12 15:37:21.546386\n"
     ]
    },
    {
     "name": "stderr",
     "output_type": "stream",
     "text": [
      "127.0.0.1 - - [12/Aug/2021 15:37:21] \"\u001b[37mPOST /flask HTTP/1.1\u001b[0m\" 200 -\n"
     ]
    },
    {
     "name": "stdout",
     "output_type": "stream",
     "text": [
      "get_json:  {'DeviceID': 21505, 'BeatTime': 54005, 'BeatCount': 49, 'ComputedHeartRate': 86, 'datatype': 0, 'datetime': '2021-08-12 18:37:21', 'ticksTime': 1628793487256987.2, 'PreviousBeat': 53342, 'HwVersion': 1, 'SwVersion': 10, 'ModelNum': 2, 'BatteryLevel': 80, 'BatteryVoltage': 15.99609375, 'BatteryStatus': 'Ok'}\n",
      "Time(ms):  2021-08-12 15:37:21.781296\n"
     ]
    },
    {
     "name": "stderr",
     "output_type": "stream",
     "text": [
      "127.0.0.1 - - [12/Aug/2021 15:37:22] \"\u001b[37mPOST /flask HTTP/1.1\u001b[0m\" 200 -\n"
     ]
    },
    {
     "name": "stdout",
     "output_type": "stream",
     "text": [
      "get_json:  {'DeviceID': 21505, 'BeatTime': 54650, 'BeatCount': 50, 'ComputedHeartRate': 87, 'datatype': 0, 'datetime': '2021-08-12 18:37:22', 'ticksTime': 1628793487749202.5, 'PreviousBeat': 54005, 'HwVersion': 1, 'SwVersion': 10, 'ModelNum': 2, 'BatteryLevel': 80, 'BatteryVoltage': 15.99609375, 'BatteryStatus': 'Ok'}\n",
      "Time(ms):  2021-08-12 15:37:22.028933\n"
     ]
    },
    {
     "name": "stderr",
     "output_type": "stream",
     "text": [
      "127.0.0.1 - - [12/Aug/2021 15:37:22] \"\u001b[37mPOST /flask HTTP/1.1\u001b[0m\" 200 -\n"
     ]
    },
    {
     "name": "stdout",
     "output_type": "stream",
     "text": [
      "get_json:  {'DeviceID': 21505, 'BeatTime': 54650, 'BeatCount': 50, 'ComputedHeartRate': 87, 'datatype': 0, 'datetime': '2021-08-12 18:37:22', 'ticksTime': 1628793488242926.5, 'PreviousBeat': 54005, 'HwVersion': 1, 'SwVersion': 10, 'ModelNum': 2, 'BatteryLevel': 80, 'BatteryVoltage': 15.99609375, 'BatteryStatus': 'Ok'}\n",
      "Time(ms):  2021-08-12 15:37:22.273815\n"
     ]
    },
    {
     "name": "stderr",
     "output_type": "stream",
     "text": [
      "127.0.0.1 - - [12/Aug/2021 15:37:22] \"\u001b[37mPOST /flask HTTP/1.1\u001b[0m\" 200 -\n"
     ]
    },
    {
     "name": "stdout",
     "output_type": "stream",
     "text": [
      "get_json:  {'DeviceID': 21505, 'BeatTime': 55278, 'BeatCount': 51, 'ComputedHeartRate': 88, 'datatype': 0, 'datetime': '2021-08-12 18:37:22', 'ticksTime': 1628793488734980.5, 'PreviousBeat': 54005, 'HwVersion': 1, 'SwVersion': 10, 'ModelNum': 2, 'BatteryLevel': 80, 'BatteryVoltage': 15.99609375, 'BatteryStatus': 'Ok', 'ManId': 123, 'SerialNumber': 744510465}\n",
      "Time(ms):  2021-08-12 15:37:22.520276\n"
     ]
    },
    {
     "name": "stderr",
     "output_type": "stream",
     "text": [
      "127.0.0.1 - - [12/Aug/2021 15:37:22] \"\u001b[37mPOST /flask HTTP/1.1\u001b[0m\" 200 -\n"
     ]
    },
    {
     "name": "stdout",
     "output_type": "stream",
     "text": [
      "get_json:  {'DeviceID': 21505, 'BeatTime': 55278, 'BeatCount': 51, 'ComputedHeartRate': 88, 'datatype': 0, 'datetime': '2021-08-12 18:37:22', 'ticksTime': 1628793489227130.2, 'PreviousBeat': 54005, 'HwVersion': 1, 'SwVersion': 10, 'ModelNum': 2, 'BatteryLevel': 80, 'BatteryVoltage': 15.99609375, 'BatteryStatus': 'Ok', 'ManId': 123, 'SerialNumber': 744510465}\n",
      "Time(ms):  2021-08-12 15:37:22.768566\n"
     ]
    },
    {
     "name": "stderr",
     "output_type": "stream",
     "text": [
      "127.0.0.1 - - [12/Aug/2021 15:37:23] \"\u001b[37mPOST /flask HTTP/1.1\u001b[0m\" 200 -\n"
     ]
    },
    {
     "name": "stdout",
     "output_type": "stream",
     "text": [
      "get_json:  {'DeviceID': 21505, 'BeatTime': 55278, 'BeatCount': 51, 'ComputedHeartRate': 88, 'datatype': 0, 'datetime': '2021-08-12 18:37:23', 'ticksTime': 1628793489720714, 'PreviousBeat': 54005, 'HwVersion': 1, 'SwVersion': 10, 'ModelNum': 2, 'BatteryLevel': 80, 'BatteryVoltage': 15.99609375, 'BatteryStatus': 'Ok', 'ManId': 123, 'SerialNumber': 744510465}\n",
      "Time(ms):  2021-08-12 15:37:23.013447\n"
     ]
    },
    {
     "name": "stderr",
     "output_type": "stream",
     "text": [
      "127.0.0.1 - - [12/Aug/2021 15:37:23] \"\u001b[37mPOST /flask HTTP/1.1\u001b[0m\" 200 -\n"
     ]
    },
    {
     "name": "stdout",
     "output_type": "stream",
     "text": [
      "get_json:  {'DeviceID': 21505, 'BeatTime': 55903, 'BeatCount': 52, 'ComputedHeartRate': 89, 'datatype': 0, 'datetime': '2021-08-12 18:37:23', 'ticksTime': 1628793490211468.2, 'PreviousBeat': 54005, 'HwVersion': 1, 'SwVersion': 10, 'ModelNum': 2, 'BatteryLevel': 80, 'BatteryVoltage': 15.99609375, 'BatteryStatus': 'Ok', 'ManId': 123, 'SerialNumber': 744510465}\n",
      "Time(ms):  2021-08-12 15:37:23.258445\n"
     ]
    },
    {
     "name": "stderr",
     "output_type": "stream",
     "text": [
      "127.0.0.1 - - [12/Aug/2021 15:37:23] \"\u001b[37mPOST /flask HTTP/1.1\u001b[0m\" 200 -\n"
     ]
    },
    {
     "name": "stdout",
     "output_type": "stream",
     "text": [
      "get_json:  {'DeviceID': 21505, 'BeatTime': 55903, 'BeatCount': 52, 'ComputedHeartRate': 89, 'datatype': 0, 'datetime': '2021-08-12 18:37:23', 'ticksTime': 1628793490704799.8, 'PreviousBeat': 55278, 'HwVersion': 1, 'SwVersion': 10, 'ModelNum': 2, 'BatteryLevel': 80, 'BatteryVoltage': 15.99609375, 'BatteryStatus': 'Ok', 'ManId': 123, 'SerialNumber': 744510465}\n",
      "Time(ms):  2021-08-12 15:37:23.504412\n"
     ]
    },
    {
     "name": "stderr",
     "output_type": "stream",
     "text": [
      "127.0.0.1 - - [12/Aug/2021 15:37:23] \"\u001b[37mPOST /flask HTTP/1.1\u001b[0m\" 200 -\n"
     ]
    },
    {
     "name": "stdout",
     "output_type": "stream",
     "text": [
      "get_json:  {'DeviceID': 21505, 'BeatTime': 55903, 'BeatCount': 52, 'ComputedHeartRate': 89, 'datatype': 0, 'datetime': '2021-08-12 18:37:23', 'ticksTime': 1628793491197254, 'PreviousBeat': 55278, 'HwVersion': 1, 'SwVersion': 10, 'ModelNum': 2, 'BatteryLevel': 80, 'BatteryVoltage': 15.99609375, 'BatteryStatus': 'Ok', 'ManId': 123, 'SerialNumber': 744510465}\n",
      "Time(ms):  2021-08-12 15:37:23.752522\n"
     ]
    },
    {
     "name": "stderr",
     "output_type": "stream",
     "text": [
      "127.0.0.1 - - [12/Aug/2021 15:37:23] \"\u001b[37mPOST /flask HTTP/1.1\u001b[0m\" 200 -\n"
     ]
    },
    {
     "name": "stdout",
     "output_type": "stream",
     "text": [
      "get_json:  {'DeviceID': 21505, 'BeatTime': 56537, 'BeatCount': 53, 'ComputedHeartRate': 90, 'datatype': 0, 'datetime': '2021-08-12 18:37:23', 'ticksTime': 1628793491692667.2, 'PreviousBeat': 55903, 'HwVersion': 1, 'SwVersion': 10, 'ModelNum': 2, 'BatteryLevel': 80, 'BatteryVoltage': 15.99609375, 'BatteryStatus': 'Ok', 'ManId': 123, 'SerialNumber': 744510465}\n",
      "Time(ms):  2021-08-12 15:37:23.998629\n"
     ]
    },
    {
     "name": "stderr",
     "output_type": "stream",
     "text": [
      "127.0.0.1 - - [12/Aug/2021 15:37:24] \"\u001b[37mPOST /flask HTTP/1.1\u001b[0m\" 200 -\n"
     ]
    },
    {
     "name": "stdout",
     "output_type": "stream",
     "text": [
      "get_json:  {'DeviceID': 21505, 'BeatTime': 56537, 'BeatCount': 53, 'ComputedHeartRate': 90, 'datatype': 0, 'datetime': '2021-08-12 18:37:24', 'ticksTime': 1628793492181631.5, 'PreviousBeat': 55903, 'HwVersion': 1, 'SwVersion': 10, 'ModelNum': 2, 'BatteryLevel': 80, 'BatteryVoltage': 15.99609375, 'BatteryStatus': 'Ok', 'ManId': 123, 'SerialNumber': 744510465}\n",
      "Time(ms):  2021-08-12 15:37:24.244592\n"
     ]
    },
    {
     "name": "stderr",
     "output_type": "stream",
     "text": [
      "127.0.0.1 - - [12/Aug/2021 15:37:24] \"\u001b[37mPOST /flask HTTP/1.1\u001b[0m\" 200 -\n"
     ]
    },
    {
     "name": "stdout",
     "output_type": "stream",
     "text": [
      "get_json:  {'DeviceID': 21505, 'BeatTime': 56537, 'BeatCount': 53, 'ComputedHeartRate': 90, 'datatype': 0, 'datetime': '2021-08-12 18:37:24', 'ticksTime': 1628793492674821.8, 'PreviousBeat': 55903, 'HwVersion': 1, 'SwVersion': 10, 'ModelNum': 2, 'BatteryLevel': 80, 'BatteryVoltage': 15.99609375, 'BatteryStatus': 'Ok', 'ManId': 123, 'SerialNumber': 744510465}\n",
      "Time(ms):  2021-08-12 15:37:24.489443\n"
     ]
    }
   ],
   "source": [
    "import time\n",
    "from datetime import datetime,timedelta\n",
    "import json\n",
    "import os\n",
    "from flask import Flask\n",
    "from flask import request\n",
    "\n",
    "\n",
    "\n",
    "\n",
    "\n",
    "__author__ = 'souzadt'\n",
    "\n",
    "# Create Flask application\n",
    "app = Flask(__name__)\n",
    "\n",
    "sensor_columns = ['DeviceID', 'BeatTime', 'BeatCount',\n",
    "                  'ComputedHeartRate', 'PreviousBeat',\n",
    "                  'BatteryLevel', 'BatteryVoltage', 'BatteryStatus',\n",
    "                  'datatype', 'datetime', 'ticksTim',\n",
    "                  'request_time']\n",
    "\n",
    "\n",
    "game_columns = ['datatype', 'datetime','ticksTime',\n",
    "                'DeviceID', 'BallPosX', 'BallPosY',\n",
    "                'BallSpeed', 'Player1X', 'Player1Y',\n",
    "                'Player2X', 'Player2Y', 'ScorePlayer1',\n",
    "                'ScorePlayer2', 'Player1State', 'Player2State',\n",
    "                'request_time']\n",
    "\n",
    "# define global variable\n",
    "player1 = {} #device: 4b53ebe7c92042d59c95dd2f66a52b99\n",
    "player2 = {} #device: 44c9efaf67334f99a2de1c6dd0821cc9\n",
    "hvr1 = {} #device: 11429 ID:822CA525\n",
    "hvr2 = {} #deivice: 21505 ID:6064012C\n",
    "\n",
    "#date to file\n",
    "date_time_to_file = datetime.now().strftime('%Y_%m_%d_%H_%M_%S')\n",
    "\n",
    "#outfile names\n",
    "file_name_player1 = date_time_to_file + \"_game_4b53ebe7c92042d59c95dd2f66a52b99.json\"\n",
    "file_name_player2 = date_time_to_file + \"_game_44c9efaf67334f99a2de1c6dd0821cc9.json\"\n",
    "file_name_hvr1 = date_time_to_file + \"_sensor_11429.json\"\n",
    "file_name_hvr2 = date_time_to_file + \"_sensor_21505.json\"\n",
    "\n",
    "#put data in outfile\n",
    "def writeJsonData(request_time , request_data):\n",
    "    #hrv data == 0\n",
    "    if request_data[\"datatype\"] == 0:\n",
    "        if request_data[\"device\"] == 11429:\n",
    "            if len(hvr1) < 2000:\n",
    "                hvr1.update(str(request_time):request_data)\n",
    "            else:\n",
    "                if os.path.exists(str('./'+file_name_hvr1)) :\n",
    "                    out_file = open(file_name_hvr1, \"w\") \n",
    "                    json.dump(hvr1, out_file, indent = 6)\n",
    "                    out_file.close()\n",
    "                    hvr1 = {}\n",
    "                else:\n",
    "                    out_file = open(file_name_hvr1, \"a\") \n",
    "                    json.dump(hvr1, out_file, indent = 6)\n",
    "                    out_file.close()\n",
    "                    hvr1 = {}\n",
    "                              \n",
    "        if request_data[\"device\"] == 21505:\n",
    "            if len(hvr2) < 2000:\n",
    "                hvr2.update(str(request_time):request_data)\n",
    "                \n",
    "            else:\n",
    "                if os.path.exists(str('./'+file_name_hvr2)) :\n",
    "                    out_file = open(file_name_hvr2, \"w\") \n",
    "                    json.dump(hvr2, out_file, indent = 6)\n",
    "                    out_file.close()\n",
    "                    hvr2 = {}\n",
    "                else:\n",
    "                    out_file = open(file_name_hvr2, \"a\") \n",
    "                    json.dump(hvr2, out_file, indent = 6)\n",
    "                    out_file.close()\n",
    "                    hvr2 = {}\n",
    "\n",
    "    #game position data == 1\n",
    "    elif request_data[\"datatype\"] == 1:\n",
    "        if request_data[\"device\"] == '4b53ebe7c92042d59c95dd2f66a52b99':\n",
    "            if len(player1) < 2000:\n",
    "                player1.update(str(request_time):request_data)\n",
    "            else:\n",
    "                if os.path.exists(str('./'+file_name_player1)) :\n",
    "                    out_file = open(file_name_player1, \"w\") \n",
    "                    json.dump(player1, out_file, indent = 6)\n",
    "                    out_file.close()\n",
    "                    player1 = {}\n",
    "                else:\n",
    "                    out_file = open(file_name_player1, \"a\") \n",
    "                    json.dump(player1, out_file, indent = 6)\n",
    "                    out_file.close()\n",
    "                    player1 = {}\n",
    "                \n",
    "                    \n",
    "        if requestData[\"device\"] == '44c9efaf67334f99a2de1c6dd0821cc9':\n",
    "            if len(player2) < 2000:\n",
    "                player2.update(str(request_time):request_data)\n",
    "                \n",
    "            else:\n",
    "                if os.path.exists(str('./'+file_name_player2)) :\n",
    "                    out_file = open(file_name_player1, \"w\") \n",
    "                    json.dump(player2, out_file, indent = 6)\n",
    "                    out_file.close()\n",
    "                    player2 = {}\n",
    "                else:\n",
    "                    out_file = open(file_name_player2, \"a\") \n",
    "                    json.dump(player2, out_file, indent = 6)\n",
    "                    out_file.close()\n",
    "                    player2 = {}\n",
    "                                               \n",
    "        \n",
    "###Trocar flask para getdata\n",
    "@app.route(\"/flask\", methods=['GET', 'POST'])\n",
    "def hello():\n",
    "    \n",
    "    if request.method == \"POST\":\n",
    "        #print (\"POST\")\n",
    "        datetime0 = datetime.now()\n",
    "        t0 = time.perf_counter()\n",
    "        #myrequest = request.get_json()\n",
    "        print (\"get_json: \", request.get_json())\n",
    "        request_time = datetime0 + timedelta(0, time.perf_counter()-t0)\n",
    "        #varRequestTime =  {request_time: myrequest}\n",
    "        #myrequest.update(varRequestTime)\n",
    "        print(\"Time(ms): \", request_time)\n",
    "        #print(request)\n",
    "       \n",
    "        #print (\"data: \", request.data)\n",
    "        return (\"POST\")\n",
    "    else:\n",
    "        #print(\"GET\")\n",
    "        return(\"GET\")\n",
    "        pass\n",
    "\n",
    "\n",
    "if __name__ == \"__main__\":\n",
    "    \n",
    "    #app.run(host ='192.168.0.103', port=5000)\n",
    "    app.run()\n",
    "    "
   ]
  },
  {
   "cell_type": "code",
   "execution_count": 2,
   "id": "swiss-compiler",
   "metadata": {},
   "outputs": [
    {
     "name": "stdout",
     "output_type": "stream",
     "text": [
      "2021-08-12_20:46:55.011955_sensor_21505.json\n"
     ]
    }
   ],
   "source": [
    "import time\n",
    "from datetime import datetime,timedelta\n",
    "import json \n",
    "import pandas as pd   \n",
    "\n",
    "columns = ['name', 'age', 'date', 'teste']\n",
    "datetime0 = datetime.now()\n",
    "datetime1 = datetime.now()\n",
    "hvr2 = {str(datetime0):{'name': 'vikash', 'age': 27},str(datetime1):{'name': 'diego', 'age': 36, 'teste': 4}} #deivice: 21505\n",
    "\n",
    "\n",
    "#out_file = open(\"sensor\"+str(columns[0])+\".json\", \"w\") \n",
    "#json.dump(hvr2, out_file, indent = 6) \n",
    "    \n",
    "#out_file.close()\n",
    "#\"datetime0.isoformat('_')\n",
    "\n",
    "#var= {'date': datei\n",
    "file_name_hvr2 = datetime0.isoformat('_') + \"_sensor_21505.json\"\n",
    "\n",
    "print(file_name_hvr2)\n",
    "#hvr2.update(var)\n",
    "\n",
    "#df2 = pd.DataFrame.from_dict(hvr2, orient='index')\n",
    "#df2\n",
    "#df = pd.DataFrame(columns=columns, index=range(1))\n",
    "\n",
    "#result = df.append([df2, df2], ignore_index=True)\n",
    "#result\n"
   ]
  },
  {
   "cell_type": "code",
   "execution_count": 9,
   "id": "requested-event",
   "metadata": {},
   "outputs": [
    {
     "data": {
      "text/plain": [
       "'/.2021_08_12_20_53_47'"
      ]
     },
     "execution_count": 9,
     "metadata": {},
     "output_type": "execute_result"
    }
   ],
   "source": [
    "import os\n",
    "os.path.exists('./myfile.json')\n",
    "today = datetime.now().strftime('%Y_%m_%d_%H_%M_%S')\n",
    "str('/.'+ today)\n"
   ]
  },
  {
   "cell_type": "code",
   "execution_count": null,
   "id": "connected-bridge",
   "metadata": {},
   "outputs": [],
   "source": []
  }
 ],
 "metadata": {
  "kernelspec": {
   "display_name": "Python 3",
   "language": "python",
   "name": "python3"
  },
  "language_info": {
   "codemirror_mode": {
    "name": "ipython",
    "version": 3
   },
   "file_extension": ".py",
   "mimetype": "text/x-python",
   "name": "python",
   "nbconvert_exporter": "python",
   "pygments_lexer": "ipython3",
   "version": "3.9.4"
  }
 },
 "nbformat": 4,
 "nbformat_minor": 5
}
